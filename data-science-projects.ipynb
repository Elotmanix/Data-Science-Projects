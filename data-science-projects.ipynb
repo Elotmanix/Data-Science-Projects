{
 "cells": [
  {
   "cell_type": "code",
   "execution_count": 1,
   "id": "3fcefcb2",
   "metadata": {
    "_cell_guid": "b1076dfc-b9ad-4769-8c92-a6c4dae69d19",
    "_uuid": "8f2839f25d086af736a60e9eeb907d3b93b6e0e5",
    "execution": {
     "iopub.execute_input": "2024-11-25T00:34:13.111633Z",
     "iopub.status.busy": "2024-11-25T00:34:13.111176Z",
     "iopub.status.idle": "2024-11-25T00:34:16.137208Z",
     "shell.execute_reply": "2024-11-25T00:34:16.136125Z"
    },
    "papermill": {
     "duration": 3.043878,
     "end_time": "2024-11-25T00:34:16.139897",
     "exception": false,
     "start_time": "2024-11-25T00:34:13.096019",
     "status": "completed"
    },
    "tags": []
   },
   "outputs": [],
   "source": [
    "import pandas as pd\n",
    "import seaborn as sns\n",
    "import numpy as np\n",
    "import matplotlib.pyplot as plt\n",
    "from sklearn.linear_model import LogisticRegression,LinearRegression\n",
    "from sklearn.metrics import *\n",
    "from sklearn.model_selection import *\n",
    "from sklearn.tree import *\n",
    "from sklearn.ensemble import *\n",
    "from numpy import random\n",
    "from sklearn.preprocessing import *\n",
    "from xgboost import XGBClassifier\n",
    "from imblearn.under_sampling import RandomUnderSampler\n",
    "from imblearn.over_sampling import RandomOverSampler\n",
    "from xgboost import XGBClassifier"
   ]
  },
  {
   "cell_type": "markdown",
   "id": "6fe5435d",
   "metadata": {
    "papermill": {
     "duration": 0.014104,
     "end_time": "2024-11-25T00:34:16.169087",
     "exception": false,
     "start_time": "2024-11-25T00:34:16.154983",
     "status": "completed"
    },
    "tags": []
   },
   "source": [
    "# stroke"
   ]
  },
  {
   "cell_type": "code",
   "execution_count": 2,
   "id": "807c5453",
   "metadata": {
    "execution": {
     "iopub.execute_input": "2024-11-25T00:34:16.197829Z",
     "iopub.status.busy": "2024-11-25T00:34:16.196818Z",
     "iopub.status.idle": "2024-11-25T00:34:16.349184Z",
     "shell.execute_reply": "2024-11-25T00:34:16.348108Z"
    },
    "papermill": {
     "duration": 0.169171,
     "end_time": "2024-11-25T00:34:16.351563",
     "exception": false,
     "start_time": "2024-11-25T00:34:16.182392",
     "status": "completed"
    },
    "tags": []
   },
   "outputs": [
    {
     "data": {
      "text/html": [
       "<div>\n",
       "<style scoped>\n",
       "    .dataframe tbody tr th:only-of-type {\n",
       "        vertical-align: middle;\n",
       "    }\n",
       "\n",
       "    .dataframe tbody tr th {\n",
       "        vertical-align: top;\n",
       "    }\n",
       "\n",
       "    .dataframe thead th {\n",
       "        text-align: right;\n",
       "    }\n",
       "</style>\n",
       "<table border=\"1\" class=\"dataframe\">\n",
       "  <thead>\n",
       "    <tr style=\"text-align: right;\">\n",
       "      <th></th>\n",
       "      <th>id</th>\n",
       "      <th>gender</th>\n",
       "      <th>age</th>\n",
       "      <th>hypertension</th>\n",
       "      <th>heart_disease</th>\n",
       "      <th>ever_married</th>\n",
       "      <th>work_type</th>\n",
       "      <th>Residence_type</th>\n",
       "      <th>avg_glucose_level</th>\n",
       "      <th>bmi</th>\n",
       "      <th>smoking_status</th>\n",
       "      <th>stroke</th>\n",
       "    </tr>\n",
       "  </thead>\n",
       "  <tbody>\n",
       "    <tr>\n",
       "      <th>0</th>\n",
       "      <td>30669</td>\n",
       "      <td>Male</td>\n",
       "      <td>3.0</td>\n",
       "      <td>0</td>\n",
       "      <td>0</td>\n",
       "      <td>No</td>\n",
       "      <td>children</td>\n",
       "      <td>Rural</td>\n",
       "      <td>95.12</td>\n",
       "      <td>18.0</td>\n",
       "      <td>NaN</td>\n",
       "      <td>0</td>\n",
       "    </tr>\n",
       "    <tr>\n",
       "      <th>1</th>\n",
       "      <td>30468</td>\n",
       "      <td>Male</td>\n",
       "      <td>58.0</td>\n",
       "      <td>1</td>\n",
       "      <td>0</td>\n",
       "      <td>Yes</td>\n",
       "      <td>Private</td>\n",
       "      <td>Urban</td>\n",
       "      <td>87.96</td>\n",
       "      <td>39.2</td>\n",
       "      <td>never smoked</td>\n",
       "      <td>0</td>\n",
       "    </tr>\n",
       "    <tr>\n",
       "      <th>2</th>\n",
       "      <td>16523</td>\n",
       "      <td>Female</td>\n",
       "      <td>8.0</td>\n",
       "      <td>0</td>\n",
       "      <td>0</td>\n",
       "      <td>No</td>\n",
       "      <td>Private</td>\n",
       "      <td>Urban</td>\n",
       "      <td>110.89</td>\n",
       "      <td>17.6</td>\n",
       "      <td>NaN</td>\n",
       "      <td>0</td>\n",
       "    </tr>\n",
       "    <tr>\n",
       "      <th>3</th>\n",
       "      <td>56543</td>\n",
       "      <td>Female</td>\n",
       "      <td>70.0</td>\n",
       "      <td>0</td>\n",
       "      <td>0</td>\n",
       "      <td>Yes</td>\n",
       "      <td>Private</td>\n",
       "      <td>Rural</td>\n",
       "      <td>69.04</td>\n",
       "      <td>35.9</td>\n",
       "      <td>formerly smoked</td>\n",
       "      <td>0</td>\n",
       "    </tr>\n",
       "    <tr>\n",
       "      <th>4</th>\n",
       "      <td>46136</td>\n",
       "      <td>Male</td>\n",
       "      <td>14.0</td>\n",
       "      <td>0</td>\n",
       "      <td>0</td>\n",
       "      <td>No</td>\n",
       "      <td>Never_worked</td>\n",
       "      <td>Rural</td>\n",
       "      <td>161.28</td>\n",
       "      <td>19.1</td>\n",
       "      <td>NaN</td>\n",
       "      <td>0</td>\n",
       "    </tr>\n",
       "  </tbody>\n",
       "</table>\n",
       "</div>"
      ],
      "text/plain": [
       "      id  gender   age  hypertension  heart_disease ever_married  \\\n",
       "0  30669    Male   3.0             0              0           No   \n",
       "1  30468    Male  58.0             1              0          Yes   \n",
       "2  16523  Female   8.0             0              0           No   \n",
       "3  56543  Female  70.0             0              0          Yes   \n",
       "4  46136    Male  14.0             0              0           No   \n",
       "\n",
       "      work_type Residence_type  avg_glucose_level   bmi   smoking_status  \\\n",
       "0      children          Rural              95.12  18.0              NaN   \n",
       "1       Private          Urban              87.96  39.2     never smoked   \n",
       "2       Private          Urban             110.89  17.6              NaN   \n",
       "3       Private          Rural              69.04  35.9  formerly smoked   \n",
       "4  Never_worked          Rural             161.28  19.1              NaN   \n",
       "\n",
       "   stroke  \n",
       "0       0  \n",
       "1       0  \n",
       "2       0  \n",
       "3       0  \n",
       "4       0  "
      ]
     },
     "execution_count": 2,
     "metadata": {},
     "output_type": "execute_result"
    }
   ],
   "source": [
    "df=pd.read_csv(\"/kaggle/input/basic-datasets/stroke.csv\")\n",
    "df.head()"
   ]
  },
  {
   "cell_type": "code",
   "execution_count": 3,
   "id": "010df9e4",
   "metadata": {
    "execution": {
     "iopub.execute_input": "2024-11-25T00:34:16.380096Z",
     "iopub.status.busy": "2024-11-25T00:34:16.379753Z",
     "iopub.status.idle": "2024-11-25T00:34:16.385813Z",
     "shell.execute_reply": "2024-11-25T00:34:16.384756Z"
    },
    "papermill": {
     "duration": 0.022934,
     "end_time": "2024-11-25T00:34:16.387994",
     "exception": false,
     "start_time": "2024-11-25T00:34:16.365060",
     "status": "completed"
    },
    "tags": []
   },
   "outputs": [
    {
     "data": {
      "text/plain": [
       "(43400, 12)"
      ]
     },
     "execution_count": 3,
     "metadata": {},
     "output_type": "execute_result"
    }
   ],
   "source": [
    "df.shape"
   ]
  },
  {
   "cell_type": "code",
   "execution_count": 4,
   "id": "dcfd72fc",
   "metadata": {
    "execution": {
     "iopub.execute_input": "2024-11-25T00:34:16.418358Z",
     "iopub.status.busy": "2024-11-25T00:34:16.417904Z",
     "iopub.status.idle": "2024-11-25T00:34:16.439805Z",
     "shell.execute_reply": "2024-11-25T00:34:16.438754Z"
    },
    "papermill": {
     "duration": 0.039189,
     "end_time": "2024-11-25T00:34:16.441944",
     "exception": false,
     "start_time": "2024-11-25T00:34:16.402755",
     "status": "completed"
    },
    "tags": []
   },
   "outputs": [
    {
     "data": {
      "text/plain": [
       "id                   43400\n",
       "gender               43400\n",
       "age                  43400\n",
       "hypertension         43400\n",
       "heart_disease        43400\n",
       "ever_married         43400\n",
       "work_type            43400\n",
       "Residence_type       43400\n",
       "avg_glucose_level    43400\n",
       "bmi                  41938\n",
       "smoking_status       30108\n",
       "stroke               43400\n",
       "dtype: int64"
      ]
     },
     "execution_count": 4,
     "metadata": {},
     "output_type": "execute_result"
    }
   ],
   "source": [
    "df.count()"
   ]
  },
  {
   "cell_type": "code",
   "execution_count": 5,
   "id": "4686df26",
   "metadata": {
    "execution": {
     "iopub.execute_input": "2024-11-25T00:34:16.473102Z",
     "iopub.status.busy": "2024-11-25T00:34:16.472098Z",
     "iopub.status.idle": "2024-11-25T00:34:16.478894Z",
     "shell.execute_reply": "2024-11-25T00:34:16.477857Z"
    },
    "papermill": {
     "duration": 0.025245,
     "end_time": "2024-11-25T00:34:16.481816",
     "exception": false,
     "start_time": "2024-11-25T00:34:16.456571",
     "status": "completed"
    },
    "tags": []
   },
   "outputs": [
    {
     "data": {
      "text/plain": [
       "Index(['id', 'gender', 'age', 'hypertension', 'heart_disease', 'ever_married',\n",
       "       'work_type', 'Residence_type', 'avg_glucose_level', 'bmi',\n",
       "       'smoking_status', 'stroke'],\n",
       "      dtype='object')"
      ]
     },
     "execution_count": 5,
     "metadata": {},
     "output_type": "execute_result"
    }
   ],
   "source": [
    "df.columns"
   ]
  },
  {
   "cell_type": "code",
   "execution_count": 6,
   "id": "ee3dd46c",
   "metadata": {
    "execution": {
     "iopub.execute_input": "2024-11-25T00:34:16.513394Z",
     "iopub.status.busy": "2024-11-25T00:34:16.513001Z",
     "iopub.status.idle": "2024-11-25T00:34:16.569815Z",
     "shell.execute_reply": "2024-11-25T00:34:16.568515Z"
    },
    "papermill": {
     "duration": 0.07477,
     "end_time": "2024-11-25T00:34:16.572393",
     "exception": false,
     "start_time": "2024-11-25T00:34:16.497623",
     "status": "completed"
    },
    "tags": []
   },
   "outputs": [
    {
     "name": "stdout",
     "output_type": "stream",
     "text": [
      "['Govt_job' 'Never_worked' 'Private' 'Self-employed' 'children']\n",
      "['Rural' 'Urban']\n",
      "[0 1]\n"
     ]
    }
   ],
   "source": [
    "print(np.unique(df['work_type']))\n",
    "print(np.unique(df['Residence_type']))\n",
    "print(np.unique(df['stroke']))\n"
   ]
  },
  {
   "cell_type": "code",
   "execution_count": 7,
   "id": "7511cb39",
   "metadata": {
    "execution": {
     "iopub.execute_input": "2024-11-25T00:34:16.602335Z",
     "iopub.status.busy": "2024-11-25T00:34:16.601895Z",
     "iopub.status.idle": "2024-11-25T00:34:16.614935Z",
     "shell.execute_reply": "2024-11-25T00:34:16.613931Z"
    },
    "papermill": {
     "duration": 0.030516,
     "end_time": "2024-11-25T00:34:16.617177",
     "exception": false,
     "start_time": "2024-11-25T00:34:16.586661",
     "status": "completed"
    },
    "tags": []
   },
   "outputs": [],
   "source": [
    "df['gender']=df['gender'].map({'Male':0,'Female':1})"
   ]
  },
  {
   "cell_type": "code",
   "execution_count": 8,
   "id": "b3302a5f",
   "metadata": {
    "execution": {
     "iopub.execute_input": "2024-11-25T00:34:16.647660Z",
     "iopub.status.busy": "2024-11-25T00:34:16.647286Z",
     "iopub.status.idle": "2024-11-25T00:34:16.657518Z",
     "shell.execute_reply": "2024-11-25T00:34:16.656466Z"
    },
    "papermill": {
     "duration": 0.02788,
     "end_time": "2024-11-25T00:34:16.659616",
     "exception": false,
     "start_time": "2024-11-25T00:34:16.631736",
     "status": "completed"
    },
    "tags": []
   },
   "outputs": [],
   "source": [
    "df['ever_married']=df['ever_married'].map({'No':0,'Yes':1})"
   ]
  },
  {
   "cell_type": "code",
   "execution_count": 9,
   "id": "c5d8b021",
   "metadata": {
    "execution": {
     "iopub.execute_input": "2024-11-25T00:34:16.689715Z",
     "iopub.status.busy": "2024-11-25T00:34:16.689325Z",
     "iopub.status.idle": "2024-11-25T00:34:16.698682Z",
     "shell.execute_reply": "2024-11-25T00:34:16.697394Z"
    },
    "papermill": {
     "duration": 0.027554,
     "end_time": "2024-11-25T00:34:16.701146",
     "exception": false,
     "start_time": "2024-11-25T00:34:16.673592",
     "status": "completed"
    },
    "tags": []
   },
   "outputs": [],
   "source": [
    "df['Residence_type']=df['Residence_type'].map({'Rural':0,'Urban':1})"
   ]
  },
  {
   "cell_type": "code",
   "execution_count": 10,
   "id": "280c4a07",
   "metadata": {
    "execution": {
     "iopub.execute_input": "2024-11-25T00:34:16.731409Z",
     "iopub.status.busy": "2024-11-25T00:34:16.731016Z",
     "iopub.status.idle": "2024-11-25T00:34:16.753968Z",
     "shell.execute_reply": "2024-11-25T00:34:16.752789Z"
    },
    "papermill": {
     "duration": 0.04109,
     "end_time": "2024-11-25T00:34:16.756755",
     "exception": false,
     "start_time": "2024-11-25T00:34:16.715665",
     "status": "completed"
    },
    "tags": []
   },
   "outputs": [],
   "source": [
    "df=pd.get_dummies(df,columns=['work_type'])"
   ]
  },
  {
   "cell_type": "code",
   "execution_count": 11,
   "id": "856c7d45",
   "metadata": {
    "execution": {
     "iopub.execute_input": "2024-11-25T00:34:16.786594Z",
     "iopub.status.busy": "2024-11-25T00:34:16.786172Z",
     "iopub.status.idle": "2024-11-25T00:34:16.799043Z",
     "shell.execute_reply": "2024-11-25T00:34:16.797955Z"
    },
    "papermill": {
     "duration": 0.03058,
     "end_time": "2024-11-25T00:34:16.801598",
     "exception": false,
     "start_time": "2024-11-25T00:34:16.771018",
     "status": "completed"
    },
    "tags": []
   },
   "outputs": [],
   "source": [
    "df=df.dropna()"
   ]
  },
  {
   "cell_type": "code",
   "execution_count": 12,
   "id": "ff090a3a",
   "metadata": {
    "execution": {
     "iopub.execute_input": "2024-11-25T00:34:16.831652Z",
     "iopub.status.busy": "2024-11-25T00:34:16.830945Z",
     "iopub.status.idle": "2024-11-25T00:34:16.837790Z",
     "shell.execute_reply": "2024-11-25T00:34:16.836806Z"
    },
    "papermill": {
     "duration": 0.024216,
     "end_time": "2024-11-25T00:34:16.840126",
     "exception": false,
     "start_time": "2024-11-25T00:34:16.815910",
     "status": "completed"
    },
    "tags": []
   },
   "outputs": [],
   "source": [
    "df=df.drop(['id'],axis=1)"
   ]
  },
  {
   "cell_type": "code",
   "execution_count": 13,
   "id": "7b06e684",
   "metadata": {
    "execution": {
     "iopub.execute_input": "2024-11-25T00:34:16.870002Z",
     "iopub.status.busy": "2024-11-25T00:34:16.869627Z",
     "iopub.status.idle": "2024-11-25T00:34:16.888332Z",
     "shell.execute_reply": "2024-11-25T00:34:16.887277Z"
    },
    "papermill": {
     "duration": 0.0362,
     "end_time": "2024-11-25T00:34:16.890615",
     "exception": false,
     "start_time": "2024-11-25T00:34:16.854415",
     "status": "completed"
    },
    "tags": []
   },
   "outputs": [
    {
     "data": {
      "text/html": [
       "<div>\n",
       "<style scoped>\n",
       "    .dataframe tbody tr th:only-of-type {\n",
       "        vertical-align: middle;\n",
       "    }\n",
       "\n",
       "    .dataframe tbody tr th {\n",
       "        vertical-align: top;\n",
       "    }\n",
       "\n",
       "    .dataframe thead th {\n",
       "        text-align: right;\n",
       "    }\n",
       "</style>\n",
       "<table border=\"1\" class=\"dataframe\">\n",
       "  <thead>\n",
       "    <tr style=\"text-align: right;\">\n",
       "      <th></th>\n",
       "      <th>gender</th>\n",
       "      <th>age</th>\n",
       "      <th>hypertension</th>\n",
       "      <th>heart_disease</th>\n",
       "      <th>ever_married</th>\n",
       "      <th>Residence_type</th>\n",
       "      <th>avg_glucose_level</th>\n",
       "      <th>bmi</th>\n",
       "      <th>smoking_status</th>\n",
       "      <th>stroke</th>\n",
       "      <th>work_type_Govt_job</th>\n",
       "      <th>work_type_Never_worked</th>\n",
       "      <th>work_type_Private</th>\n",
       "      <th>work_type_Self-employed</th>\n",
       "      <th>work_type_children</th>\n",
       "    </tr>\n",
       "  </thead>\n",
       "  <tbody>\n",
       "    <tr>\n",
       "      <th>1</th>\n",
       "      <td>0.0</td>\n",
       "      <td>58.0</td>\n",
       "      <td>1</td>\n",
       "      <td>0</td>\n",
       "      <td>1</td>\n",
       "      <td>1</td>\n",
       "      <td>87.96</td>\n",
       "      <td>39.2</td>\n",
       "      <td>never smoked</td>\n",
       "      <td>0</td>\n",
       "      <td>False</td>\n",
       "      <td>False</td>\n",
       "      <td>True</td>\n",
       "      <td>False</td>\n",
       "      <td>False</td>\n",
       "    </tr>\n",
       "    <tr>\n",
       "      <th>3</th>\n",
       "      <td>1.0</td>\n",
       "      <td>70.0</td>\n",
       "      <td>0</td>\n",
       "      <td>0</td>\n",
       "      <td>1</td>\n",
       "      <td>0</td>\n",
       "      <td>69.04</td>\n",
       "      <td>35.9</td>\n",
       "      <td>formerly smoked</td>\n",
       "      <td>0</td>\n",
       "      <td>False</td>\n",
       "      <td>False</td>\n",
       "      <td>True</td>\n",
       "      <td>False</td>\n",
       "      <td>False</td>\n",
       "    </tr>\n",
       "    <tr>\n",
       "      <th>6</th>\n",
       "      <td>1.0</td>\n",
       "      <td>52.0</td>\n",
       "      <td>0</td>\n",
       "      <td>0</td>\n",
       "      <td>1</td>\n",
       "      <td>1</td>\n",
       "      <td>77.59</td>\n",
       "      <td>17.7</td>\n",
       "      <td>formerly smoked</td>\n",
       "      <td>0</td>\n",
       "      <td>False</td>\n",
       "      <td>False</td>\n",
       "      <td>True</td>\n",
       "      <td>False</td>\n",
       "      <td>False</td>\n",
       "    </tr>\n",
       "    <tr>\n",
       "      <th>7</th>\n",
       "      <td>1.0</td>\n",
       "      <td>75.0</td>\n",
       "      <td>0</td>\n",
       "      <td>1</td>\n",
       "      <td>1</td>\n",
       "      <td>0</td>\n",
       "      <td>243.53</td>\n",
       "      <td>27.0</td>\n",
       "      <td>never smoked</td>\n",
       "      <td>0</td>\n",
       "      <td>False</td>\n",
       "      <td>False</td>\n",
       "      <td>False</td>\n",
       "      <td>True</td>\n",
       "      <td>False</td>\n",
       "    </tr>\n",
       "    <tr>\n",
       "      <th>8</th>\n",
       "      <td>1.0</td>\n",
       "      <td>32.0</td>\n",
       "      <td>0</td>\n",
       "      <td>0</td>\n",
       "      <td>1</td>\n",
       "      <td>0</td>\n",
       "      <td>77.67</td>\n",
       "      <td>32.3</td>\n",
       "      <td>smokes</td>\n",
       "      <td>0</td>\n",
       "      <td>False</td>\n",
       "      <td>False</td>\n",
       "      <td>True</td>\n",
       "      <td>False</td>\n",
       "      <td>False</td>\n",
       "    </tr>\n",
       "  </tbody>\n",
       "</table>\n",
       "</div>"
      ],
      "text/plain": [
       "   gender   age  hypertension  heart_disease  ever_married  Residence_type  \\\n",
       "1     0.0  58.0             1              0             1               1   \n",
       "3     1.0  70.0             0              0             1               0   \n",
       "6     1.0  52.0             0              0             1               1   \n",
       "7     1.0  75.0             0              1             1               0   \n",
       "8     1.0  32.0             0              0             1               0   \n",
       "\n",
       "   avg_glucose_level   bmi   smoking_status  stroke  work_type_Govt_job  \\\n",
       "1              87.96  39.2     never smoked       0               False   \n",
       "3              69.04  35.9  formerly smoked       0               False   \n",
       "6              77.59  17.7  formerly smoked       0               False   \n",
       "7             243.53  27.0     never smoked       0               False   \n",
       "8              77.67  32.3           smokes       0               False   \n",
       "\n",
       "   work_type_Never_worked  work_type_Private  work_type_Self-employed  \\\n",
       "1                   False               True                    False   \n",
       "3                   False               True                    False   \n",
       "6                   False               True                    False   \n",
       "7                   False              False                     True   \n",
       "8                   False               True                    False   \n",
       "\n",
       "   work_type_children  \n",
       "1               False  \n",
       "3               False  \n",
       "6               False  \n",
       "7               False  \n",
       "8               False  "
      ]
     },
     "execution_count": 13,
     "metadata": {},
     "output_type": "execute_result"
    }
   ],
   "source": [
    "df.head()"
   ]
  },
  {
   "cell_type": "code",
   "execution_count": 14,
   "id": "144c2d93",
   "metadata": {
    "execution": {
     "iopub.execute_input": "2024-11-25T00:34:16.921486Z",
     "iopub.status.busy": "2024-11-25T00:34:16.921082Z",
     "iopub.status.idle": "2024-11-25T00:34:16.943414Z",
     "shell.execute_reply": "2024-11-25T00:34:16.942007Z"
    },
    "papermill": {
     "duration": 0.040224,
     "end_time": "2024-11-25T00:34:16.945746",
     "exception": false,
     "start_time": "2024-11-25T00:34:16.905522",
     "status": "completed"
    },
    "tags": []
   },
   "outputs": [
    {
     "name": "stdout",
     "output_type": "stream",
     "text": [
      "['formerly smoked' 'never smoked' 'smokes']\n"
     ]
    }
   ],
   "source": [
    "print(np.unique(df['smoking_status']))"
   ]
  },
  {
   "cell_type": "code",
   "execution_count": 15,
   "id": "6d9285fd",
   "metadata": {
    "execution": {
     "iopub.execute_input": "2024-11-25T00:34:16.976448Z",
     "iopub.status.busy": "2024-11-25T00:34:16.976053Z",
     "iopub.status.idle": "2024-11-25T00:34:16.988591Z",
     "shell.execute_reply": "2024-11-25T00:34:16.987340Z"
    },
    "papermill": {
     "duration": 0.030672,
     "end_time": "2024-11-25T00:34:16.990956",
     "exception": false,
     "start_time": "2024-11-25T00:34:16.960284",
     "status": "completed"
    },
    "tags": []
   },
   "outputs": [],
   "source": [
    "df=pd.get_dummies(df,columns=['smoking_status'])"
   ]
  },
  {
   "cell_type": "code",
   "execution_count": 16,
   "id": "5359b34f",
   "metadata": {
    "execution": {
     "iopub.execute_input": "2024-11-25T00:34:17.021381Z",
     "iopub.status.busy": "2024-11-25T00:34:17.020946Z",
     "iopub.status.idle": "2024-11-25T00:34:17.034910Z",
     "shell.execute_reply": "2024-11-25T00:34:17.033613Z"
    },
    "papermill": {
     "duration": 0.031958,
     "end_time": "2024-11-25T00:34:17.037257",
     "exception": false,
     "start_time": "2024-11-25T00:34:17.005299",
     "status": "completed"
    },
    "tags": []
   },
   "outputs": [],
   "source": [
    "X = df.drop('stroke', axis=1)\n",
    "y = df['stroke']\n",
    "X_train, X_test, y_train, y_test = train_test_split(X, y, test_size=0.2, random_state=42)"
   ]
  },
  {
   "cell_type": "code",
   "execution_count": 17,
   "id": "30447cda",
   "metadata": {
    "execution": {
     "iopub.execute_input": "2024-11-25T00:34:17.067220Z",
     "iopub.status.busy": "2024-11-25T00:34:17.066850Z",
     "iopub.status.idle": "2024-11-25T00:34:19.497226Z",
     "shell.execute_reply": "2024-11-25T00:34:19.496248Z"
    },
    "papermill": {
     "duration": 2.447995,
     "end_time": "2024-11-25T00:34:19.499470",
     "exception": false,
     "start_time": "2024-11-25T00:34:17.051475",
     "status": "completed"
    },
    "tags": []
   },
   "outputs": [
    {
     "name": "stdout",
     "output_type": "stream",
     "text": [
      "accuracy : 0.982625150524686\n"
     ]
    }
   ],
   "source": [
    "model = RandomForestClassifier(n_estimators=100, random_state=42)\n",
    "model.fit(X_train, y_train)\n",
    "y_hat = model.predict(X_test)\n",
    "print('accuracy :',accuracy_score(y_test,y_hat))"
   ]
  },
  {
   "cell_type": "code",
   "execution_count": 18,
   "id": "0c9c90da",
   "metadata": {
    "execution": {
     "iopub.execute_input": "2024-11-25T00:34:19.582407Z",
     "iopub.status.busy": "2024-11-25T00:34:19.582006Z",
     "iopub.status.idle": "2024-11-25T00:34:19.602799Z",
     "shell.execute_reply": "2024-11-25T00:34:19.601352Z"
    },
    "papermill": {
     "duration": 0.039447,
     "end_time": "2024-11-25T00:34:19.605458",
     "exception": false,
     "start_time": "2024-11-25T00:34:19.566011",
     "status": "completed"
    },
    "tags": []
   },
   "outputs": [
    {
     "name": "stdout",
     "output_type": "stream",
     "text": [
      "              precision    recall  f1-score   support\n",
      "\n",
      "           0       0.98      1.00      0.99      5713\n",
      "           1       0.00      0.00      0.00       100\n",
      "\n",
      "    accuracy                           0.98      5813\n",
      "   macro avg       0.49      0.50      0.50      5813\n",
      "weighted avg       0.97      0.98      0.97      5813\n",
      "\n"
     ]
    }
   ],
   "source": [
    "print(classification_report(y_test,y_hat))"
   ]
  },
  {
   "cell_type": "code",
   "execution_count": 19,
   "id": "5803002d",
   "metadata": {
    "execution": {
     "iopub.execute_input": "2024-11-25T00:34:19.636281Z",
     "iopub.status.busy": "2024-11-25T00:34:19.635901Z",
     "iopub.status.idle": "2024-11-25T00:34:19.642755Z",
     "shell.execute_reply": "2024-11-25T00:34:19.641576Z"
    },
    "papermill": {
     "duration": 0.02515,
     "end_time": "2024-11-25T00:34:19.645173",
     "exception": false,
     "start_time": "2024-11-25T00:34:19.620023",
     "status": "completed"
    },
    "tags": []
   },
   "outputs": [
    {
     "data": {
      "text/plain": [
       "(29065, 17)"
      ]
     },
     "execution_count": 19,
     "metadata": {},
     "output_type": "execute_result"
    }
   ],
   "source": [
    "df.shape"
   ]
  },
  {
   "cell_type": "code",
   "execution_count": 20,
   "id": "b48a1ace",
   "metadata": {
    "execution": {
     "iopub.execute_input": "2024-11-25T00:34:19.676443Z",
     "iopub.status.busy": "2024-11-25T00:34:19.675956Z",
     "iopub.status.idle": "2024-11-25T00:34:19.685296Z",
     "shell.execute_reply": "2024-11-25T00:34:19.684493Z"
    },
    "papermill": {
     "duration": 0.027577,
     "end_time": "2024-11-25T00:34:19.687579",
     "exception": false,
     "start_time": "2024-11-25T00:34:19.660002",
     "status": "completed"
    },
    "tags": []
   },
   "outputs": [
    {
     "data": {
      "text/plain": [
       "gender                            29065\n",
       "age                               29065\n",
       "hypertension                      29065\n",
       "heart_disease                     29065\n",
       "ever_married                      29065\n",
       "Residence_type                    29065\n",
       "avg_glucose_level                 29065\n",
       "bmi                               29065\n",
       "stroke                            29065\n",
       "work_type_Govt_job                29065\n",
       "work_type_Never_worked            29065\n",
       "work_type_Private                 29065\n",
       "work_type_Self-employed           29065\n",
       "work_type_children                29065\n",
       "smoking_status_formerly smoked    29065\n",
       "smoking_status_never smoked       29065\n",
       "smoking_status_smokes             29065\n",
       "dtype: int64"
      ]
     },
     "execution_count": 20,
     "metadata": {},
     "output_type": "execute_result"
    }
   ],
   "source": [
    "df.count()"
   ]
  },
  {
   "cell_type": "code",
   "execution_count": 21,
   "id": "78afd3b6",
   "metadata": {
    "execution": {
     "iopub.execute_input": "2024-11-25T00:34:19.718688Z",
     "iopub.status.busy": "2024-11-25T00:34:19.718315Z",
     "iopub.status.idle": "2024-11-25T00:34:20.267383Z",
     "shell.execute_reply": "2024-11-25T00:34:20.266290Z"
    },
    "papermill": {
     "duration": 0.567363,
     "end_time": "2024-11-25T00:34:20.269818",
     "exception": false,
     "start_time": "2024-11-25T00:34:19.702455",
     "status": "completed"
    },
    "tags": []
   },
   "outputs": [
    {
     "data": {
      "text/plain": [
       "<seaborn.matrix.ClusterGrid at 0x7d1f40bea1a0>"
      ]
     },
     "execution_count": 21,
     "metadata": {},
     "output_type": "execute_result"
    },
    {
     "data": {
      "image/png": "[encoded data removed]",
      "text/plain": [
       "<Figure size 1000x1000 with 4 Axes>"
      ]
     },
     "metadata": {},
     "output_type": "display_data"
    }
   ],
   "source": [
    "sns.clustermap(abs(df[['age', 'avg_glucose_level', 'bmi','ever_married','avg_glucose_level']].corr()))"
   ]
  },
  {
   "cell_type": "markdown",
   "id": "d6583da9",
   "metadata": {
    "papermill": {
     "duration": 0.015458,
     "end_time": "2024-11-25T00:34:20.300635",
     "exception": false,
     "start_time": "2024-11-25T00:34:20.285177",
     "status": "completed"
    },
    "tags": []
   },
   "source": [
    "# Undersampling"
   ]
  },
  {
   "cell_type": "code",
   "execution_count": 22,
   "id": "708b96b8",
   "metadata": {
    "execution": {
     "iopub.execute_input": "2024-11-25T00:34:20.334594Z",
     "iopub.status.busy": "2024-11-25T00:34:20.334160Z",
     "iopub.status.idle": "2024-11-25T00:34:20.351642Z",
     "shell.execute_reply": "2024-11-25T00:34:20.350682Z"
    },
    "papermill": {
     "duration": 0.037044,
     "end_time": "2024-11-25T00:34:20.354348",
     "exception": false,
     "start_time": "2024-11-25T00:34:20.317304",
     "status": "completed"
    },
    "tags": []
   },
   "outputs": [],
   "source": [
    "X = df.drop('stroke', axis=1)\n",
    "y = df['stroke']\n",
    "sampler = RandomUnderSampler()\n",
    "X,y=sampler.fit_resample(X,y)"
   ]
  },
  {
   "cell_type": "code",
   "execution_count": 23,
   "id": "fb1b8fdf",
   "metadata": {
    "execution": {
     "iopub.execute_input": "2024-11-25T00:34:20.386742Z",
     "iopub.status.busy": "2024-11-25T00:34:20.386361Z",
     "iopub.status.idle": "2024-11-25T00:34:20.655669Z",
     "shell.execute_reply": "2024-11-25T00:34:20.654214Z"
    },
    "papermill": {
     "duration": 0.28812,
     "end_time": "2024-11-25T00:34:20.657956",
     "exception": false,
     "start_time": "2024-11-25T00:34:20.369836",
     "status": "completed"
    },
    "tags": []
   },
   "outputs": [
    {
     "name": "stdout",
     "output_type": "stream",
     "text": [
      "accuracy : 0.7227272727272728\n"
     ]
    }
   ],
   "source": [
    "X_train, X_test, y_train, y_test = train_test_split(X, y, test_size=0.2, random_state=42)\n",
    "model = RandomForestClassifier(n_estimators=100, random_state=42)\n",
    "model.fit(X_train, y_train)\n",
    "y_hat = model.predict(X_test)\n",
    "print('accuracy :',accuracy_score(y_test,y_hat))"
   ]
  },
  {
   "cell_type": "code",
   "execution_count": 24,
   "id": "a39bce1f",
   "metadata": {
    "execution": {
     "iopub.execute_input": "2024-11-25T00:34:20.690823Z",
     "iopub.status.busy": "2024-11-25T00:34:20.690443Z",
     "iopub.status.idle": "2024-11-25T00:34:20.704570Z",
     "shell.execute_reply": "2024-11-25T00:34:20.703349Z"
    },
    "papermill": {
     "duration": 0.033015,
     "end_time": "2024-11-25T00:34:20.706783",
     "exception": false,
     "start_time": "2024-11-25T00:34:20.673768",
     "status": "completed"
    },
    "tags": []
   },
   "outputs": [
    {
     "name": "stdout",
     "output_type": "stream",
     "text": [
      "              precision    recall  f1-score   support\n",
      "\n",
      "           0       0.76      0.67      0.71       113\n",
      "           1       0.69      0.78      0.73       107\n",
      "\n",
      "    accuracy                           0.72       220\n",
      "   macro avg       0.73      0.72      0.72       220\n",
      "weighted avg       0.73      0.72      0.72       220\n",
      "\n"
     ]
    }
   ],
   "source": [
    "print(classification_report(y_test,y_hat))"
   ]
  },
  {
   "cell_type": "code",
   "execution_count": 25,
   "id": "332d4538",
   "metadata": {
    "execution": {
     "iopub.execute_input": "2024-11-25T00:34:20.739135Z",
     "iopub.status.busy": "2024-11-25T00:34:20.738791Z",
     "iopub.status.idle": "2024-11-25T00:34:20.747881Z",
     "shell.execute_reply": "2024-11-25T00:34:20.746794Z"
    },
    "papermill": {
     "duration": 0.027899,
     "end_time": "2024-11-25T00:34:20.750093",
     "exception": false,
     "start_time": "2024-11-25T00:34:20.722194",
     "status": "completed"
    },
    "tags": []
   },
   "outputs": [
    {
     "data": {
      "text/plain": [
       "array([[76, 37],\n",
       "       [24, 83]])"
      ]
     },
     "execution_count": 25,
     "metadata": {},
     "output_type": "execute_result"
    }
   ],
   "source": [
    "confusion_matrix(y_test,y_hat)"
   ]
  },
  {
   "cell_type": "markdown",
   "id": "c4b14abf",
   "metadata": {
    "papermill": {
     "duration": 0.015473,
     "end_time": "2024-11-25T00:34:20.781170",
     "exception": false,
     "start_time": "2024-11-25T00:34:20.765697",
     "status": "completed"
    },
    "tags": []
   },
   "source": [
    "# Oversampling"
   ]
  },
  {
   "cell_type": "code",
   "execution_count": 26,
   "id": "8e555a75",
   "metadata": {
    "execution": {
     "iopub.execute_input": "2024-11-25T00:34:20.814213Z",
     "iopub.status.busy": "2024-11-25T00:34:20.813830Z",
     "iopub.status.idle": "2024-11-25T00:34:20.912196Z",
     "shell.execute_reply": "2024-11-25T00:34:20.911044Z"
    },
    "papermill": {
     "duration": 0.1182,
     "end_time": "2024-11-25T00:34:20.914896",
     "exception": false,
     "start_time": "2024-11-25T00:34:20.796696",
     "status": "completed"
    },
    "tags": []
   },
   "outputs": [],
   "source": [
    "X = df.drop('stroke', axis=1)\n",
    "y = df['stroke']\n",
    "sampler = RandomOverSampler()\n",
    "X,y=sampler.fit_resample(X,y)"
   ]
  },
  {
   "cell_type": "code",
   "execution_count": 27,
   "id": "015ccd07",
   "metadata": {
    "execution": {
     "iopub.execute_input": "2024-11-25T00:34:20.948429Z",
     "iopub.status.busy": "2024-11-25T00:34:20.948009Z",
     "iopub.status.idle": "2024-11-25T00:34:25.204945Z",
     "shell.execute_reply": "2024-11-25T00:34:25.203796Z"
    },
    "papermill": {
     "duration": 4.27642,
     "end_time": "2024-11-25T00:34:25.207418",
     "exception": false,
     "start_time": "2024-11-25T00:34:20.930998",
     "status": "completed"
    },
    "tags": []
   },
   "outputs": [
    {
     "name": "stdout",
     "output_type": "stream",
     "text": [
      "accuracy : 0.9977206978171298\n"
     ]
    }
   ],
   "source": [
    "X_train, X_test, y_train, y_test = train_test_split(X, y, test_size=0.2, random_state=42)\n",
    "model = RandomForestClassifier(n_estimators=100, random_state=42)\n",
    "model.fit(X_train, y_train)\n",
    "y_hat = model.predict(X_test)\n",
    "print('accuracy :',accuracy_score(y_test,y_hat))"
   ]
  },
  {
   "cell_type": "code",
   "execution_count": 28,
   "id": "649aacdd",
   "metadata": {
    "execution": {
     "iopub.execute_input": "2024-11-25T00:34:25.242418Z",
     "iopub.status.busy": "2024-11-25T00:34:25.242000Z",
     "iopub.status.idle": "2024-11-25T00:34:25.252197Z",
     "shell.execute_reply": "2024-11-25T00:34:25.251084Z"
    },
    "papermill": {
     "duration": 0.030917,
     "end_time": "2024-11-25T00:34:25.254455",
     "exception": false,
     "start_time": "2024-11-25T00:34:25.223538",
     "status": "completed"
    },
    "tags": []
   },
   "outputs": [
    {
     "data": {
      "text/plain": [
       "array([[5591,   26],\n",
       "       [   0, 5790]])"
      ]
     },
     "execution_count": 28,
     "metadata": {},
     "output_type": "execute_result"
    }
   ],
   "source": [
    "confusion_matrix(y_test,y_hat)"
   ]
  },
  {
   "cell_type": "code",
   "execution_count": 29,
   "id": "593f1a6f",
   "metadata": {
    "execution": {
     "iopub.execute_input": "2024-11-25T00:34:25.287703Z",
     "iopub.status.busy": "2024-11-25T00:34:25.287294Z",
     "iopub.status.idle": "2024-11-25T00:34:25.319837Z",
     "shell.execute_reply": "2024-11-25T00:34:25.318519Z"
    },
    "papermill": {
     "duration": 0.052008,
     "end_time": "2024-11-25T00:34:25.322168",
     "exception": false,
     "start_time": "2024-11-25T00:34:25.270160",
     "status": "completed"
    },
    "tags": []
   },
   "outputs": [
    {
     "name": "stdout",
     "output_type": "stream",
     "text": [
      "              precision    recall  f1-score   support\n",
      "\n",
      "           0       1.00      1.00      1.00      5617\n",
      "           1       1.00      1.00      1.00      5790\n",
      "\n",
      "    accuracy                           1.00     11407\n",
      "   macro avg       1.00      1.00      1.00     11407\n",
      "weighted avg       1.00      1.00      1.00     11407\n",
      "\n"
     ]
    }
   ],
   "source": [
    "print(classification_report(y_test,y_hat))"
   ]
  },
  {
   "cell_type": "markdown",
   "id": "399978d5",
   "metadata": {
    "papermill": {
     "duration": 0.015443,
     "end_time": "2024-11-25T00:34:25.354121",
     "exception": false,
     "start_time": "2024-11-25T00:34:25.338678",
     "status": "completed"
    },
    "tags": []
   },
   "source": [
    "# XGboost"
   ]
  },
  {
   "cell_type": "code",
   "execution_count": 30,
   "id": "0f7e9f82",
   "metadata": {
    "execution": {
     "iopub.execute_input": "2024-11-25T00:34:25.387342Z",
     "iopub.status.busy": "2024-11-25T00:34:25.386908Z",
     "iopub.status.idle": "2024-11-25T00:34:25.399161Z",
     "shell.execute_reply": "2024-11-25T00:34:25.398112Z"
    },
    "papermill": {
     "duration": 0.031447,
     "end_time": "2024-11-25T00:34:25.401371",
     "exception": false,
     "start_time": "2024-11-25T00:34:25.369924",
     "status": "completed"
    },
    "tags": []
   },
   "outputs": [
    {
     "data": {
      "text/plain": [
       "stroke\n",
       "0    28517\n",
       "1      548\n",
       "Name: count, dtype: int64"
      ]
     },
     "execution_count": 30,
     "metadata": {},
     "output_type": "execute_result"
    }
   ],
   "source": [
    "df.stroke.value_counts()"
   ]
  },
  {
   "cell_type": "code",
   "execution_count": 31,
   "id": "5928b47f",
   "metadata": {
    "execution": {
     "iopub.execute_input": "2024-11-25T00:34:25.435916Z",
     "iopub.status.busy": "2024-11-25T00:34:25.435556Z",
     "iopub.status.idle": "2024-11-25T00:34:25.766099Z",
     "shell.execute_reply": "2024-11-25T00:34:25.763377Z"
    },
    "papermill": {
     "duration": 0.350629,
     "end_time": "2024-11-25T00:34:25.768782",
     "exception": false,
     "start_time": "2024-11-25T00:34:25.418153",
     "status": "completed"
    },
    "tags": []
   },
   "outputs": [
    {
     "name": "stdout",
     "output_type": "stream",
     "text": [
      "accuracy : 0.9360055049028041\n"
     ]
    }
   ],
   "source": [
    "X = df.drop('stroke', axis=1)\n",
    "y = df['stroke']\n",
    "X_train, X_test, y_train, y_test = train_test_split(X, y, test_size=0.2, random_state=42)\n",
    "model = XGBClassifier(scale_pos_weight=28517/548)\n",
    "model.fit(X_train, y_train)\n",
    "y_hat = model.predict(X_test)\n",
    "print('accuracy :',accuracy_score(y_test,y_hat))\n"
   ]
  },
  {
   "cell_type": "code",
   "execution_count": 32,
   "id": "2ad724ef",
   "metadata": {
    "execution": {
     "iopub.execute_input": "2024-11-25T00:34:25.802635Z",
     "iopub.status.busy": "2024-11-25T00:34:25.802223Z",
     "iopub.status.idle": "2024-11-25T00:34:25.812352Z",
     "shell.execute_reply": "2024-11-25T00:34:25.811328Z"
    },
    "papermill": {
     "duration": 0.029622,
     "end_time": "2024-11-25T00:34:25.814556",
     "exception": false,
     "start_time": "2024-11-25T00:34:25.784934",
     "status": "completed"
    },
    "tags": []
   },
   "outputs": [
    {
     "data": {
      "text/plain": [
       "array([[5428,  285],\n",
       "       [  87,   13]])"
      ]
     },
     "execution_count": 32,
     "metadata": {},
     "output_type": "execute_result"
    }
   ],
   "source": [
    "confusion_matrix(y_test,y_hat)"
   ]
  },
  {
   "cell_type": "code",
   "execution_count": 33,
   "id": "491ec8c0",
   "metadata": {
    "execution": {
     "iopub.execute_input": "2024-11-25T00:34:25.848315Z",
     "iopub.status.busy": "2024-11-25T00:34:25.847916Z",
     "iopub.status.idle": "2024-11-25T00:34:25.867558Z",
     "shell.execute_reply": "2024-11-25T00:34:25.866369Z"
    },
    "papermill": {
     "duration": 0.039092,
     "end_time": "2024-11-25T00:34:25.869753",
     "exception": false,
     "start_time": "2024-11-25T00:34:25.830661",
     "status": "completed"
    },
    "tags": []
   },
   "outputs": [
    {
     "name": "stdout",
     "output_type": "stream",
     "text": [
      "              precision    recall  f1-score   support\n",
      "\n",
      "           0       0.98      0.95      0.97      5713\n",
      "           1       0.04      0.13      0.07       100\n",
      "\n",
      "    accuracy                           0.94      5813\n",
      "   macro avg       0.51      0.54      0.52      5813\n",
      "weighted avg       0.97      0.94      0.95      5813\n",
      "\n"
     ]
    }
   ],
   "source": [
    "print(classification_report(y_test,y_hat))"
   ]
  },
  {
   "cell_type": "markdown",
   "id": "008cd373",
   "metadata": {
    "papermill": {
     "duration": 0.015731,
     "end_time": "2024-11-25T00:34:25.901543",
     "exception": false,
     "start_time": "2024-11-25T00:34:25.885812",
     "status": "completed"
    },
    "tags": []
   },
   "source": [
    "# churn"
   ]
  },
  {
   "cell_type": "code",
   "execution_count": 34,
   "id": "8cc6fb95",
   "metadata": {
    "execution": {
     "iopub.execute_input": "2024-11-25T00:34:25.935563Z",
     "iopub.status.busy": "2024-11-25T00:34:25.934622Z",
     "iopub.status.idle": "2024-11-25T00:34:25.975544Z",
     "shell.execute_reply": "2024-11-25T00:34:25.974466Z"
    },
    "papermill": {
     "duration": 0.060428,
     "end_time": "2024-11-25T00:34:25.977887",
     "exception": false,
     "start_time": "2024-11-25T00:34:25.917459",
     "status": "completed"
    },
    "tags": []
   },
   "outputs": [
    {
     "data": {
      "text/html": [
       "<div>\n",
       "<style scoped>\n",
       "    .dataframe tbody tr th:only-of-type {\n",
       "        vertical-align: middle;\n",
       "    }\n",
       "\n",
       "    .dataframe tbody tr th {\n",
       "        vertical-align: top;\n",
       "    }\n",
       "\n",
       "    .dataframe thead th {\n",
       "        text-align: right;\n",
       "    }\n",
       "</style>\n",
       "<table border=\"1\" class=\"dataframe\">\n",
       "  <thead>\n",
       "    <tr style=\"text-align: right;\">\n",
       "      <th></th>\n",
       "      <th>State</th>\n",
       "      <th>Account length</th>\n",
       "      <th>Area code</th>\n",
       "      <th>International plan</th>\n",
       "      <th>Voice mail plan</th>\n",
       "      <th>Number vmail messages</th>\n",
       "      <th>Total day minutes</th>\n",
       "      <th>Total day calls</th>\n",
       "      <th>Total day charge</th>\n",
       "      <th>Total eve minutes</th>\n",
       "      <th>Total eve calls</th>\n",
       "      <th>Total eve charge</th>\n",
       "      <th>Total night minutes</th>\n",
       "      <th>Total night calls</th>\n",
       "      <th>Total night charge</th>\n",
       "      <th>Total intl minutes</th>\n",
       "      <th>Total intl calls</th>\n",
       "      <th>Total intl charge</th>\n",
       "      <th>Customer service calls</th>\n",
       "      <th>Churn</th>\n",
       "    </tr>\n",
       "  </thead>\n",
       "  <tbody>\n",
       "    <tr>\n",
       "      <th>0</th>\n",
       "      <td>KS</td>\n",
       "      <td>128</td>\n",
       "      <td>415</td>\n",
       "      <td>No</td>\n",
       "      <td>Yes</td>\n",
       "      <td>25</td>\n",
       "      <td>265.1</td>\n",
       "      <td>110</td>\n",
       "      <td>45.07</td>\n",
       "      <td>197.4</td>\n",
       "      <td>99</td>\n",
       "      <td>16.78</td>\n",
       "      <td>244.7</td>\n",
       "      <td>91</td>\n",
       "      <td>11.01</td>\n",
       "      <td>10.0</td>\n",
       "      <td>3</td>\n",
       "      <td>2.70</td>\n",
       "      <td>1</td>\n",
       "      <td>False</td>\n",
       "    </tr>\n",
       "    <tr>\n",
       "      <th>1</th>\n",
       "      <td>OH</td>\n",
       "      <td>107</td>\n",
       "      <td>415</td>\n",
       "      <td>No</td>\n",
       "      <td>Yes</td>\n",
       "      <td>26</td>\n",
       "      <td>161.6</td>\n",
       "      <td>123</td>\n",
       "      <td>27.47</td>\n",
       "      <td>195.5</td>\n",
       "      <td>103</td>\n",
       "      <td>16.62</td>\n",
       "      <td>254.4</td>\n",
       "      <td>103</td>\n",
       "      <td>11.45</td>\n",
       "      <td>13.7</td>\n",
       "      <td>3</td>\n",
       "      <td>3.70</td>\n",
       "      <td>1</td>\n",
       "      <td>False</td>\n",
       "    </tr>\n",
       "    <tr>\n",
       "      <th>2</th>\n",
       "      <td>NJ</td>\n",
       "      <td>137</td>\n",
       "      <td>415</td>\n",
       "      <td>No</td>\n",
       "      <td>No</td>\n",
       "      <td>0</td>\n",
       "      <td>243.4</td>\n",
       "      <td>114</td>\n",
       "      <td>41.38</td>\n",
       "      <td>121.2</td>\n",
       "      <td>110</td>\n",
       "      <td>10.30</td>\n",
       "      <td>162.6</td>\n",
       "      <td>104</td>\n",
       "      <td>7.32</td>\n",
       "      <td>12.2</td>\n",
       "      <td>5</td>\n",
       "      <td>3.29</td>\n",
       "      <td>0</td>\n",
       "      <td>False</td>\n",
       "    </tr>\n",
       "    <tr>\n",
       "      <th>3</th>\n",
       "      <td>OH</td>\n",
       "      <td>84</td>\n",
       "      <td>408</td>\n",
       "      <td>Yes</td>\n",
       "      <td>No</td>\n",
       "      <td>0</td>\n",
       "      <td>299.4</td>\n",
       "      <td>71</td>\n",
       "      <td>50.90</td>\n",
       "      <td>61.9</td>\n",
       "      <td>88</td>\n",
       "      <td>5.26</td>\n",
       "      <td>196.9</td>\n",
       "      <td>89</td>\n",
       "      <td>8.86</td>\n",
       "      <td>6.6</td>\n",
       "      <td>7</td>\n",
       "      <td>1.78</td>\n",
       "      <td>2</td>\n",
       "      <td>False</td>\n",
       "    </tr>\n",
       "    <tr>\n",
       "      <th>4</th>\n",
       "      <td>OK</td>\n",
       "      <td>75</td>\n",
       "      <td>415</td>\n",
       "      <td>Yes</td>\n",
       "      <td>No</td>\n",
       "      <td>0</td>\n",
       "      <td>166.7</td>\n",
       "      <td>113</td>\n",
       "      <td>28.34</td>\n",
       "      <td>148.3</td>\n",
       "      <td>122</td>\n",
       "      <td>12.61</td>\n",
       "      <td>186.9</td>\n",
       "      <td>121</td>\n",
       "      <td>8.41</td>\n",
       "      <td>10.1</td>\n",
       "      <td>3</td>\n",
       "      <td>2.73</td>\n",
       "      <td>3</td>\n",
       "      <td>False</td>\n",
       "    </tr>\n",
       "  </tbody>\n",
       "</table>\n",
       "</div>"
      ],
      "text/plain": [
       "  State  Account length  Area code International plan Voice mail plan  \\\n",
       "0    KS             128        415                 No             Yes   \n",
       "1    OH             107        415                 No             Yes   \n",
       "2    NJ             137        415                 No              No   \n",
       "3    OH              84        408                Yes              No   \n",
       "4    OK              75        415                Yes              No   \n",
       "\n",
       "   Number vmail messages  Total day minutes  Total day calls  \\\n",
       "0                     25              265.1              110   \n",
       "1                     26              161.6              123   \n",
       "2                      0              243.4              114   \n",
       "3                      0              299.4               71   \n",
       "4                      0              166.7              113   \n",
       "\n",
       "   Total day charge  Total eve minutes  Total eve calls  Total eve charge  \\\n",
       "0             45.07              197.4               99             16.78   \n",
       "1             27.47              195.5              103             16.62   \n",
       "2             41.38              121.2              110             10.30   \n",
       "3             50.90               61.9               88              5.26   \n",
       "4             28.34              148.3              122             12.61   \n",
       "\n",
       "   Total night minutes  Total night calls  Total night charge  \\\n",
       "0                244.7                 91               11.01   \n",
       "1                254.4                103               11.45   \n",
       "2                162.6                104                7.32   \n",
       "3                196.9                 89                8.86   \n",
       "4                186.9                121                8.41   \n",
       "\n",
       "   Total intl minutes  Total intl calls  Total intl charge  \\\n",
       "0                10.0                 3               2.70   \n",
       "1                13.7                 3               3.70   \n",
       "2                12.2                 5               3.29   \n",
       "3                 6.6                 7               1.78   \n",
       "4                10.1                 3               2.73   \n",
       "\n",
       "   Customer service calls  Churn  \n",
       "0                       1  False  \n",
       "1                       1  False  \n",
       "2                       0  False  \n",
       "3                       2  False  \n",
       "4                       3  False  "
      ]
     },
     "execution_count": 34,
     "metadata": {},
     "output_type": "execute_result"
    }
   ],
   "source": [
    "df=pd.read_csv(\"/kaggle/input/basic-datasets/churn-big.csv\")\n",
    "df.head()"
   ]
  },
  {
   "cell_type": "code",
   "execution_count": 35,
   "id": "7472d165",
   "metadata": {
    "execution": {
     "iopub.execute_input": "2024-11-25T00:34:26.013411Z",
     "iopub.status.busy": "2024-11-25T00:34:26.013020Z",
     "iopub.status.idle": "2024-11-25T00:34:26.023830Z",
     "shell.execute_reply": "2024-11-25T00:34:26.022531Z"
    },
    "papermill": {
     "duration": 0.031468,
     "end_time": "2024-11-25T00:34:26.026223",
     "exception": false,
     "start_time": "2024-11-25T00:34:25.994755",
     "status": "completed"
    },
    "tags": []
   },
   "outputs": [
    {
     "data": {
      "text/plain": [
       "State                     2666\n",
       "Account length            2666\n",
       "Area code                 2666\n",
       "International plan        2666\n",
       "Voice mail plan           2666\n",
       "Number vmail messages     2666\n",
       "Total day minutes         2666\n",
       "Total day calls           2666\n",
       "Total day charge          2666\n",
       "Total eve minutes         2666\n",
       "Total eve calls           2666\n",
       "Total eve charge          2666\n",
       "Total night minutes       2666\n",
       "Total night calls         2666\n",
       "Total night charge        2666\n",
       "Total intl minutes        2666\n",
       "Total intl calls          2666\n",
       "Total intl charge         2666\n",
       "Customer service calls    2666\n",
       "Churn                     2666\n",
       "dtype: int64"
      ]
     },
     "execution_count": 35,
     "metadata": {},
     "output_type": "execute_result"
    }
   ],
   "source": [
    "df.count()"
   ]
  },
  {
   "cell_type": "code",
   "execution_count": 36,
   "id": "b0cc88cd",
   "metadata": {
    "execution": {
     "iopub.execute_input": "2024-11-25T00:34:26.061157Z",
     "iopub.status.busy": "2024-11-25T00:34:26.060783Z",
     "iopub.status.idle": "2024-11-25T00:34:26.067954Z",
     "shell.execute_reply": "2024-11-25T00:34:26.066373Z"
    },
    "papermill": {
     "duration": 0.02726,
     "end_time": "2024-11-25T00:34:26.070114",
     "exception": false,
     "start_time": "2024-11-25T00:34:26.042854",
     "status": "completed"
    },
    "tags": []
   },
   "outputs": [],
   "source": [
    "df['International plan']=df['International plan'].map({'No':0,'Yes':1})\n"
   ]
  },
  {
   "cell_type": "code",
   "execution_count": 37,
   "id": "07c671b8",
   "metadata": {
    "execution": {
     "iopub.execute_input": "2024-11-25T00:34:26.104800Z",
     "iopub.status.busy": "2024-11-25T00:34:26.104401Z",
     "iopub.status.idle": "2024-11-25T00:34:26.111145Z",
     "shell.execute_reply": "2024-11-25T00:34:26.110125Z"
    },
    "papermill": {
     "duration": 0.026841,
     "end_time": "2024-11-25T00:34:26.113534",
     "exception": false,
     "start_time": "2024-11-25T00:34:26.086693",
     "status": "completed"
    },
    "tags": []
   },
   "outputs": [],
   "source": [
    "df['Voice mail plan']=df['Voice mail plan'].map({'No':0,'Yes':1})"
   ]
  },
  {
   "cell_type": "code",
   "execution_count": 38,
   "id": "43a18b52",
   "metadata": {
    "execution": {
     "iopub.execute_input": "2024-11-25T00:34:26.148682Z",
     "iopub.status.busy": "2024-11-25T00:34:26.148317Z",
     "iopub.status.idle": "2024-11-25T00:34:26.158792Z",
     "shell.execute_reply": "2024-11-25T00:34:26.157497Z"
    },
    "papermill": {
     "duration": 0.030836,
     "end_time": "2024-11-25T00:34:26.161194",
     "exception": false,
     "start_time": "2024-11-25T00:34:26.130358",
     "status": "completed"
    },
    "tags": []
   },
   "outputs": [],
   "source": [
    "df=pd.get_dummies(df,columns=['State'])"
   ]
  },
  {
   "cell_type": "code",
   "execution_count": 39,
   "id": "410555ba",
   "metadata": {
    "execution": {
     "iopub.execute_input": "2024-11-25T00:34:26.195771Z",
     "iopub.status.busy": "2024-11-25T00:34:26.195414Z",
     "iopub.status.idle": "2024-11-25T00:34:26.216830Z",
     "shell.execute_reply": "2024-11-25T00:34:26.215495Z"
    },
    "papermill": {
     "duration": 0.041169,
     "end_time": "2024-11-25T00:34:26.218931",
     "exception": false,
     "start_time": "2024-11-25T00:34:26.177762",
     "status": "completed"
    },
    "tags": []
   },
   "outputs": [
    {
     "data": {
      "text/html": [
       "<div>\n",
       "<style scoped>\n",
       "    .dataframe tbody tr th:only-of-type {\n",
       "        vertical-align: middle;\n",
       "    }\n",
       "\n",
       "    .dataframe tbody tr th {\n",
       "        vertical-align: top;\n",
       "    }\n",
       "\n",
       "    .dataframe thead th {\n",
       "        text-align: right;\n",
       "    }\n",
       "</style>\n",
       "<table border=\"1\" class=\"dataframe\">\n",
       "  <thead>\n",
       "    <tr style=\"text-align: right;\">\n",
       "      <th></th>\n",
       "      <th>Account length</th>\n",
       "      <th>Area code</th>\n",
       "      <th>International plan</th>\n",
       "      <th>Voice mail plan</th>\n",
       "      <th>Number vmail messages</th>\n",
       "      <th>Total day minutes</th>\n",
       "      <th>Total day calls</th>\n",
       "      <th>Total day charge</th>\n",
       "      <th>Total eve minutes</th>\n",
       "      <th>Total eve calls</th>\n",
       "      <th>...</th>\n",
       "      <th>State_SD</th>\n",
       "      <th>State_TN</th>\n",
       "      <th>State_TX</th>\n",
       "      <th>State_UT</th>\n",
       "      <th>State_VA</th>\n",
       "      <th>State_VT</th>\n",
       "      <th>State_WA</th>\n",
       "      <th>State_WI</th>\n",
       "      <th>State_WV</th>\n",
       "      <th>State_WY</th>\n",
       "    </tr>\n",
       "  </thead>\n",
       "  <tbody>\n",
       "    <tr>\n",
       "      <th>0</th>\n",
       "      <td>128</td>\n",
       "      <td>415</td>\n",
       "      <td>0</td>\n",
       "      <td>1</td>\n",
       "      <td>25</td>\n",
       "      <td>265.1</td>\n",
       "      <td>110</td>\n",
       "      <td>45.07</td>\n",
       "      <td>197.4</td>\n",
       "      <td>99</td>\n",
       "      <td>...</td>\n",
       "      <td>False</td>\n",
       "      <td>False</td>\n",
       "      <td>False</td>\n",
       "      <td>False</td>\n",
       "      <td>False</td>\n",
       "      <td>False</td>\n",
       "      <td>False</td>\n",
       "      <td>False</td>\n",
       "      <td>False</td>\n",
       "      <td>False</td>\n",
       "    </tr>\n",
       "    <tr>\n",
       "      <th>1</th>\n",
       "      <td>107</td>\n",
       "      <td>415</td>\n",
       "      <td>0</td>\n",
       "      <td>1</td>\n",
       "      <td>26</td>\n",
       "      <td>161.6</td>\n",
       "      <td>123</td>\n",
       "      <td>27.47</td>\n",
       "      <td>195.5</td>\n",
       "      <td>103</td>\n",
       "      <td>...</td>\n",
       "      <td>False</td>\n",
       "      <td>False</td>\n",
       "      <td>False</td>\n",
       "      <td>False</td>\n",
       "      <td>False</td>\n",
       "      <td>False</td>\n",
       "      <td>False</td>\n",
       "      <td>False</td>\n",
       "      <td>False</td>\n",
       "      <td>False</td>\n",
       "    </tr>\n",
       "    <tr>\n",
       "      <th>2</th>\n",
       "      <td>137</td>\n",
       "      <td>415</td>\n",
       "      <td>0</td>\n",
       "      <td>0</td>\n",
       "      <td>0</td>\n",
       "      <td>243.4</td>\n",
       "      <td>114</td>\n",
       "      <td>41.38</td>\n",
       "      <td>121.2</td>\n",
       "      <td>110</td>\n",
       "      <td>...</td>\n",
       "      <td>False</td>\n",
       "      <td>False</td>\n",
       "      <td>False</td>\n",
       "      <td>False</td>\n",
       "      <td>False</td>\n",
       "      <td>False</td>\n",
       "      <td>False</td>\n",
       "      <td>False</td>\n",
       "      <td>False</td>\n",
       "      <td>False</td>\n",
       "    </tr>\n",
       "    <tr>\n",
       "      <th>3</th>\n",
       "      <td>84</td>\n",
       "      <td>408</td>\n",
       "      <td>1</td>\n",
       "      <td>0</td>\n",
       "      <td>0</td>\n",
       "      <td>299.4</td>\n",
       "      <td>71</td>\n",
       "      <td>50.90</td>\n",
       "      <td>61.9</td>\n",
       "      <td>88</td>\n",
       "      <td>...</td>\n",
       "      <td>False</td>\n",
       "      <td>False</td>\n",
       "      <td>False</td>\n",
       "      <td>False</td>\n",
       "      <td>False</td>\n",
       "      <td>False</td>\n",
       "      <td>False</td>\n",
       "      <td>False</td>\n",
       "      <td>False</td>\n",
       "      <td>False</td>\n",
       "    </tr>\n",
       "    <tr>\n",
       "      <th>4</th>\n",
       "      <td>75</td>\n",
       "      <td>415</td>\n",
       "      <td>1</td>\n",
       "      <td>0</td>\n",
       "      <td>0</td>\n",
       "      <td>166.7</td>\n",
       "      <td>113</td>\n",
       "      <td>28.34</td>\n",
       "      <td>148.3</td>\n",
       "      <td>122</td>\n",
       "      <td>...</td>\n",
       "      <td>False</td>\n",
       "      <td>False</td>\n",
       "      <td>False</td>\n",
       "      <td>False</td>\n",
       "      <td>False</td>\n",
       "      <td>False</td>\n",
       "      <td>False</td>\n",
       "      <td>False</td>\n",
       "      <td>False</td>\n",
       "      <td>False</td>\n",
       "    </tr>\n",
       "  </tbody>\n",
       "</table>\n",
       "<p>5 rows × 70 columns</p>\n",
       "</div>"
      ],
      "text/plain": [
       "   Account length  Area code  International plan  Voice mail plan  \\\n",
       "0             128        415                   0                1   \n",
       "1             107        415                   0                1   \n",
       "2             137        415                   0                0   \n",
       "3              84        408                   1                0   \n",
       "4              75        415                   1                0   \n",
       "\n",
       "   Number vmail messages  Total day minutes  Total day calls  \\\n",
       "0                     25              265.1              110   \n",
       "1                     26              161.6              123   \n",
       "2                      0              243.4              114   \n",
       "3                      0              299.4               71   \n",
       "4                      0              166.7              113   \n",
       "\n",
       "   Total day charge  Total eve minutes  Total eve calls  ...  State_SD  \\\n",
       "0             45.07              197.4               99  ...     False   \n",
       "1             27.47              195.5              103  ...     False   \n",
       "2             41.38              121.2              110  ...     False   \n",
       "3             50.90               61.9               88  ...     False   \n",
       "4             28.34              148.3              122  ...     False   \n",
       "\n",
       "   State_TN  State_TX  State_UT  State_VA  State_VT  State_WA  State_WI  \\\n",
       "0     False     False     False     False     False     False     False   \n",
       "1     False     False     False     False     False     False     False   \n",
       "2     False     False     False     False     False     False     False   \n",
       "3     False     False     False     False     False     False     False   \n",
       "4     False     False     False     False     False     False     False   \n",
       "\n",
       "   State_WV  State_WY  \n",
       "0     False     False  \n",
       "1     False     False  \n",
       "2     False     False  \n",
       "3     False     False  \n",
       "4     False     False  \n",
       "\n",
       "[5 rows x 70 columns]"
      ]
     },
     "execution_count": 39,
     "metadata": {},
     "output_type": "execute_result"
    }
   ],
   "source": [
    "df.head()"
   ]
  },
  {
   "cell_type": "code",
   "execution_count": 40,
   "id": "079dfdd2",
   "metadata": {
    "execution": {
     "iopub.execute_input": "2024-11-25T00:34:26.253934Z",
     "iopub.status.busy": "2024-11-25T00:34:26.253575Z",
     "iopub.status.idle": "2024-11-25T00:34:26.260149Z",
     "shell.execute_reply": "2024-11-25T00:34:26.259168Z"
    },
    "papermill": {
     "duration": 0.026875,
     "end_time": "2024-11-25T00:34:26.262513",
     "exception": false,
     "start_time": "2024-11-25T00:34:26.235638",
     "status": "completed"
    },
    "tags": []
   },
   "outputs": [],
   "source": [
    "df=df.dropna()"
   ]
  },
  {
   "cell_type": "code",
   "execution_count": 41,
   "id": "c33deb38",
   "metadata": {
    "execution": {
     "iopub.execute_input": "2024-11-25T00:34:26.297755Z",
     "iopub.status.busy": "2024-11-25T00:34:26.297411Z",
     "iopub.status.idle": "2024-11-25T00:34:26.317562Z",
     "shell.execute_reply": "2024-11-25T00:34:26.316508Z"
    },
    "papermill": {
     "duration": 0.04063,
     "end_time": "2024-11-25T00:34:26.320013",
     "exception": false,
     "start_time": "2024-11-25T00:34:26.279383",
     "status": "completed"
    },
    "tags": []
   },
   "outputs": [
    {
     "data": {
      "text/html": [
       "<div>\n",
       "<style scoped>\n",
       "    .dataframe tbody tr th:only-of-type {\n",
       "        vertical-align: middle;\n",
       "    }\n",
       "\n",
       "    .dataframe tbody tr th {\n",
       "        vertical-align: top;\n",
       "    }\n",
       "\n",
       "    .dataframe thead th {\n",
       "        text-align: right;\n",
       "    }\n",
       "</style>\n",
       "<table border=\"1\" class=\"dataframe\">\n",
       "  <thead>\n",
       "    <tr style=\"text-align: right;\">\n",
       "      <th></th>\n",
       "      <th>Account length</th>\n",
       "      <th>Area code</th>\n",
       "      <th>International plan</th>\n",
       "      <th>Voice mail plan</th>\n",
       "      <th>Number vmail messages</th>\n",
       "      <th>Total day minutes</th>\n",
       "      <th>Total day calls</th>\n",
       "      <th>Total day charge</th>\n",
       "      <th>Total eve minutes</th>\n",
       "      <th>Total eve calls</th>\n",
       "      <th>...</th>\n",
       "      <th>State_SD</th>\n",
       "      <th>State_TN</th>\n",
       "      <th>State_TX</th>\n",
       "      <th>State_UT</th>\n",
       "      <th>State_VA</th>\n",
       "      <th>State_VT</th>\n",
       "      <th>State_WA</th>\n",
       "      <th>State_WI</th>\n",
       "      <th>State_WV</th>\n",
       "      <th>State_WY</th>\n",
       "    </tr>\n",
       "  </thead>\n",
       "  <tbody>\n",
       "    <tr>\n",
       "      <th>0</th>\n",
       "      <td>128</td>\n",
       "      <td>415</td>\n",
       "      <td>0</td>\n",
       "      <td>1</td>\n",
       "      <td>25</td>\n",
       "      <td>265.1</td>\n",
       "      <td>110</td>\n",
       "      <td>45.07</td>\n",
       "      <td>197.4</td>\n",
       "      <td>99</td>\n",
       "      <td>...</td>\n",
       "      <td>False</td>\n",
       "      <td>False</td>\n",
       "      <td>False</td>\n",
       "      <td>False</td>\n",
       "      <td>False</td>\n",
       "      <td>False</td>\n",
       "      <td>False</td>\n",
       "      <td>False</td>\n",
       "      <td>False</td>\n",
       "      <td>False</td>\n",
       "    </tr>\n",
       "    <tr>\n",
       "      <th>1</th>\n",
       "      <td>107</td>\n",
       "      <td>415</td>\n",
       "      <td>0</td>\n",
       "      <td>1</td>\n",
       "      <td>26</td>\n",
       "      <td>161.6</td>\n",
       "      <td>123</td>\n",
       "      <td>27.47</td>\n",
       "      <td>195.5</td>\n",
       "      <td>103</td>\n",
       "      <td>...</td>\n",
       "      <td>False</td>\n",
       "      <td>False</td>\n",
       "      <td>False</td>\n",
       "      <td>False</td>\n",
       "      <td>False</td>\n",
       "      <td>False</td>\n",
       "      <td>False</td>\n",
       "      <td>False</td>\n",
       "      <td>False</td>\n",
       "      <td>False</td>\n",
       "    </tr>\n",
       "    <tr>\n",
       "      <th>2</th>\n",
       "      <td>137</td>\n",
       "      <td>415</td>\n",
       "      <td>0</td>\n",
       "      <td>0</td>\n",
       "      <td>0</td>\n",
       "      <td>243.4</td>\n",
       "      <td>114</td>\n",
       "      <td>41.38</td>\n",
       "      <td>121.2</td>\n",
       "      <td>110</td>\n",
       "      <td>...</td>\n",
       "      <td>False</td>\n",
       "      <td>False</td>\n",
       "      <td>False</td>\n",
       "      <td>False</td>\n",
       "      <td>False</td>\n",
       "      <td>False</td>\n",
       "      <td>False</td>\n",
       "      <td>False</td>\n",
       "      <td>False</td>\n",
       "      <td>False</td>\n",
       "    </tr>\n",
       "    <tr>\n",
       "      <th>3</th>\n",
       "      <td>84</td>\n",
       "      <td>408</td>\n",
       "      <td>1</td>\n",
       "      <td>0</td>\n",
       "      <td>0</td>\n",
       "      <td>299.4</td>\n",
       "      <td>71</td>\n",
       "      <td>50.90</td>\n",
       "      <td>61.9</td>\n",
       "      <td>88</td>\n",
       "      <td>...</td>\n",
       "      <td>False</td>\n",
       "      <td>False</td>\n",
       "      <td>False</td>\n",
       "      <td>False</td>\n",
       "      <td>False</td>\n",
       "      <td>False</td>\n",
       "      <td>False</td>\n",
       "      <td>False</td>\n",
       "      <td>False</td>\n",
       "      <td>False</td>\n",
       "    </tr>\n",
       "    <tr>\n",
       "      <th>4</th>\n",
       "      <td>75</td>\n",
       "      <td>415</td>\n",
       "      <td>1</td>\n",
       "      <td>0</td>\n",
       "      <td>0</td>\n",
       "      <td>166.7</td>\n",
       "      <td>113</td>\n",
       "      <td>28.34</td>\n",
       "      <td>148.3</td>\n",
       "      <td>122</td>\n",
       "      <td>...</td>\n",
       "      <td>False</td>\n",
       "      <td>False</td>\n",
       "      <td>False</td>\n",
       "      <td>False</td>\n",
       "      <td>False</td>\n",
       "      <td>False</td>\n",
       "      <td>False</td>\n",
       "      <td>False</td>\n",
       "      <td>False</td>\n",
       "      <td>False</td>\n",
       "    </tr>\n",
       "  </tbody>\n",
       "</table>\n",
       "<p>5 rows × 70 columns</p>\n",
       "</div>"
      ],
      "text/plain": [
       "   Account length  Area code  International plan  Voice mail plan  \\\n",
       "0             128        415                   0                1   \n",
       "1             107        415                   0                1   \n",
       "2             137        415                   0                0   \n",
       "3              84        408                   1                0   \n",
       "4              75        415                   1                0   \n",
       "\n",
       "   Number vmail messages  Total day minutes  Total day calls  \\\n",
       "0                     25              265.1              110   \n",
       "1                     26              161.6              123   \n",
       "2                      0              243.4              114   \n",
       "3                      0              299.4               71   \n",
       "4                      0              166.7              113   \n",
       "\n",
       "   Total day charge  Total eve minutes  Total eve calls  ...  State_SD  \\\n",
       "0             45.07              197.4               99  ...     False   \n",
       "1             27.47              195.5              103  ...     False   \n",
       "2             41.38              121.2              110  ...     False   \n",
       "3             50.90               61.9               88  ...     False   \n",
       "4             28.34              148.3              122  ...     False   \n",
       "\n",
       "   State_TN  State_TX  State_UT  State_VA  State_VT  State_WA  State_WI  \\\n",
       "0     False     False     False     False     False     False     False   \n",
       "1     False     False     False     False     False     False     False   \n",
       "2     False     False     False     False     False     False     False   \n",
       "3     False     False     False     False     False     False     False   \n",
       "4     False     False     False     False     False     False     False   \n",
       "\n",
       "   State_WV  State_WY  \n",
       "0     False     False  \n",
       "1     False     False  \n",
       "2     False     False  \n",
       "3     False     False  \n",
       "4     False     False  \n",
       "\n",
       "[5 rows x 70 columns]"
      ]
     },
     "execution_count": 41,
     "metadata": {},
     "output_type": "execute_result"
    }
   ],
   "source": [
    "df.head()"
   ]
  },
  {
   "cell_type": "code",
   "execution_count": 42,
   "id": "b6991deb",
   "metadata": {
    "execution": {
     "iopub.execute_input": "2024-11-25T00:34:26.358985Z",
     "iopub.status.busy": "2024-11-25T00:34:26.358281Z",
     "iopub.status.idle": "2024-11-25T00:34:26.368499Z",
     "shell.execute_reply": "2024-11-25T00:34:26.367393Z"
    },
    "papermill": {
     "duration": 0.031579,
     "end_time": "2024-11-25T00:34:26.370801",
     "exception": false,
     "start_time": "2024-11-25T00:34:26.339222",
     "status": "completed"
    },
    "tags": []
   },
   "outputs": [
    {
     "data": {
      "text/plain": [
       "Account length           2666\n",
       "Area code                2666\n",
       "International plan       2666\n",
       "Voice mail plan          2666\n",
       "Number vmail messages    2666\n",
       "                         ... \n",
       "State_VT                 2666\n",
       "State_WA                 2666\n",
       "State_WI                 2666\n",
       "State_WV                 2666\n",
       "State_WY                 2666\n",
       "Length: 70, dtype: int64"
      ]
     },
     "execution_count": 42,
     "metadata": {},
     "output_type": "execute_result"
    }
   ],
   "source": [
    "df.count()"
   ]
  },
  {
   "cell_type": "code",
   "execution_count": 43,
   "id": "f2e6d3b0",
   "metadata": {
    "execution": {
     "iopub.execute_input": "2024-11-25T00:34:26.407322Z",
     "iopub.status.busy": "2024-11-25T00:34:26.406915Z",
     "iopub.status.idle": "2024-11-25T00:34:26.416336Z",
     "shell.execute_reply": "2024-11-25T00:34:26.415293Z"
    },
    "papermill": {
     "duration": 0.03027,
     "end_time": "2024-11-25T00:34:26.418669",
     "exception": false,
     "start_time": "2024-11-25T00:34:26.388399",
     "status": "completed"
    },
    "tags": []
   },
   "outputs": [],
   "source": [
    "X = df.drop('Churn', axis=1)\n",
    "y = df['Churn']\n",
    "X_train, X_test, y_train, y_test = train_test_split(X, y, test_size=0.2, random_state=42)"
   ]
  },
  {
   "cell_type": "code",
   "execution_count": 44,
   "id": "433b087b",
   "metadata": {
    "execution": {
     "iopub.execute_input": "2024-11-25T00:34:26.456094Z",
     "iopub.status.busy": "2024-11-25T00:34:26.455173Z",
     "iopub.status.idle": "2024-11-25T00:34:27.057130Z",
     "shell.execute_reply": "2024-11-25T00:34:27.055916Z"
    },
    "papermill": {
     "duration": 0.622884,
     "end_time": "2024-11-25T00:34:27.059426",
     "exception": false,
     "start_time": "2024-11-25T00:34:26.436542",
     "status": "completed"
    },
    "tags": []
   },
   "outputs": [
    {
     "name": "stdout",
     "output_type": "stream",
     "text": [
      "accuracy : 0.9269662921348315\n"
     ]
    }
   ],
   "source": [
    "model = RandomForestClassifier(n_estimators=100, random_state=42)\n",
    "model.fit(X_train, y_train)\n",
    "y_hat = model.predict(X_test)\n",
    "print('accuracy :',accuracy_score(y_test,y_hat))"
   ]
  },
  {
   "cell_type": "code",
   "execution_count": 45,
   "id": "2f0cd7dc",
   "metadata": {
    "execution": {
     "iopub.execute_input": "2024-11-25T00:34:27.096042Z",
     "iopub.status.busy": "2024-11-25T00:34:27.095271Z",
     "iopub.status.idle": "2024-11-25T00:34:27.103687Z",
     "shell.execute_reply": "2024-11-25T00:34:27.102642Z"
    },
    "papermill": {
     "duration": 0.029125,
     "end_time": "2024-11-25T00:34:27.105840",
     "exception": false,
     "start_time": "2024-11-25T00:34:27.076715",
     "status": "completed"
    },
    "tags": []
   },
   "outputs": [
    {
     "data": {
      "text/plain": [
       "array([[455,   0],\n",
       "       [ 39,  40]])"
      ]
     },
     "execution_count": 45,
     "metadata": {},
     "output_type": "execute_result"
    }
   ],
   "source": [
    "confusion_matrix(y_test,y_hat)"
   ]
  },
  {
   "cell_type": "code",
   "execution_count": 46,
   "id": "6e76ab5b",
   "metadata": {
    "execution": {
     "iopub.execute_input": "2024-11-25T00:34:27.142320Z",
     "iopub.status.busy": "2024-11-25T00:34:27.141928Z",
     "iopub.status.idle": "2024-11-25T00:34:27.155857Z",
     "shell.execute_reply": "2024-11-25T00:34:27.154769Z"
    },
    "papermill": {
     "duration": 0.035056,
     "end_time": "2024-11-25T00:34:27.158428",
     "exception": false,
     "start_time": "2024-11-25T00:34:27.123372",
     "status": "completed"
    },
    "tags": []
   },
   "outputs": [
    {
     "name": "stdout",
     "output_type": "stream",
     "text": [
      "              precision    recall  f1-score   support\n",
      "\n",
      "       False       0.92      1.00      0.96       455\n",
      "        True       1.00      0.51      0.67        79\n",
      "\n",
      "    accuracy                           0.93       534\n",
      "   macro avg       0.96      0.75      0.82       534\n",
      "weighted avg       0.93      0.93      0.92       534\n",
      "\n"
     ]
    }
   ],
   "source": [
    "print(classification_report(y_test,y_hat))"
   ]
  },
  {
   "cell_type": "markdown",
   "id": "79f44e03",
   "metadata": {
    "papermill": {
     "duration": 0.017186,
     "end_time": "2024-11-25T00:34:27.193280",
     "exception": false,
     "start_time": "2024-11-25T00:34:27.176094",
     "status": "completed"
    },
    "tags": []
   },
   "source": [
    "## undersampling"
   ]
  },
  {
   "cell_type": "code",
   "execution_count": 47,
   "id": "9ebd1953",
   "metadata": {
    "execution": {
     "iopub.execute_input": "2024-11-25T00:34:27.229917Z",
     "iopub.status.busy": "2024-11-25T00:34:27.229537Z",
     "iopub.status.idle": "2024-11-25T00:34:27.247010Z",
     "shell.execute_reply": "2024-11-25T00:34:27.245380Z"
    },
    "papermill": {
     "duration": 0.038483,
     "end_time": "2024-11-25T00:34:27.249445",
     "exception": false,
     "start_time": "2024-11-25T00:34:27.210962",
     "status": "completed"
    },
    "tags": []
   },
   "outputs": [],
   "source": [
    "X = df.drop('Churn', axis=1)\n",
    "y = df['Churn']\n",
    "sampler = RandomUnderSampler()\n",
    "X,y=sampler.fit_resample(X,y)"
   ]
  },
  {
   "cell_type": "code",
   "execution_count": 48,
   "id": "44f4bb44",
   "metadata": {
    "execution": {
     "iopub.execute_input": "2024-11-25T00:34:27.285884Z",
     "iopub.status.busy": "2024-11-25T00:34:27.285490Z",
     "iopub.status.idle": "2024-11-25T00:34:27.570446Z",
     "shell.execute_reply": "2024-11-25T00:34:27.569173Z"
    },
    "papermill": {
     "duration": 0.305765,
     "end_time": "2024-11-25T00:34:27.572712",
     "exception": false,
     "start_time": "2024-11-25T00:34:27.266947",
     "status": "completed"
    },
    "tags": []
   },
   "outputs": [
    {
     "name": "stdout",
     "output_type": "stream",
     "text": [
      "accuracy : 0.8717948717948718\n"
     ]
    }
   ],
   "source": [
    "X_train, X_test, y_train, y_test = train_test_split(X, y, test_size=0.2, random_state=42)\n",
    "model = RandomForestClassifier(n_estimators=100, random_state=42)\n",
    "model.fit(X_train, y_train)\n",
    "y_hat = model.predict(X_test)\n",
    "print('accuracy :',accuracy_score(y_test,y_hat))"
   ]
  },
  {
   "cell_type": "code",
   "execution_count": 49,
   "id": "abd98c13",
   "metadata": {
    "execution": {
     "iopub.execute_input": "2024-11-25T00:34:27.609695Z",
     "iopub.status.busy": "2024-11-25T00:34:27.608926Z",
     "iopub.status.idle": "2024-11-25T00:34:27.618088Z",
     "shell.execute_reply": "2024-11-25T00:34:27.617055Z"
    },
    "papermill": {
     "duration": 0.030008,
     "end_time": "2024-11-25T00:34:27.620326",
     "exception": false,
     "start_time": "2024-11-25T00:34:27.590318",
     "status": "completed"
    },
    "tags": []
   },
   "outputs": [
    {
     "data": {
      "text/plain": [
       "array([[66, 12],\n",
       "       [ 8, 70]])"
      ]
     },
     "execution_count": 49,
     "metadata": {},
     "output_type": "execute_result"
    }
   ],
   "source": [
    "confusion_matrix(y_test,y_hat)"
   ]
  },
  {
   "cell_type": "code",
   "execution_count": 50,
   "id": "50cfc9b0",
   "metadata": {
    "execution": {
     "iopub.execute_input": "2024-11-25T00:34:27.656993Z",
     "iopub.status.busy": "2024-11-25T00:34:27.656636Z",
     "iopub.status.idle": "2024-11-25T00:34:27.671369Z",
     "shell.execute_reply": "2024-11-25T00:34:27.670162Z"
    },
    "papermill": {
     "duration": 0.035923,
     "end_time": "2024-11-25T00:34:27.673754",
     "exception": false,
     "start_time": "2024-11-25T00:34:27.637831",
     "status": "completed"
    },
    "tags": []
   },
   "outputs": [
    {
     "name": "stdout",
     "output_type": "stream",
     "text": [
      "              precision    recall  f1-score   support\n",
      "\n",
      "       False       0.89      0.85      0.87        78\n",
      "        True       0.85      0.90      0.88        78\n",
      "\n",
      "    accuracy                           0.87       156\n",
      "   macro avg       0.87      0.87      0.87       156\n",
      "weighted avg       0.87      0.87      0.87       156\n",
      "\n"
     ]
    }
   ],
   "source": [
    "print(classification_report(y_test,y_hat))"
   ]
  },
  {
   "cell_type": "markdown",
   "id": "45663a49",
   "metadata": {
    "papermill": {
     "duration": 0.01727,
     "end_time": "2024-11-25T00:34:27.709581",
     "exception": false,
     "start_time": "2024-11-25T00:34:27.692311",
     "status": "completed"
    },
    "tags": []
   },
   "source": [
    "## xgboost"
   ]
  },
  {
   "cell_type": "code",
   "execution_count": 51,
   "id": "cc9f92a4",
   "metadata": {
    "execution": {
     "iopub.execute_input": "2024-11-25T00:34:27.746300Z",
     "iopub.status.busy": "2024-11-25T00:34:27.745904Z",
     "iopub.status.idle": "2024-11-25T00:34:27.755401Z",
     "shell.execute_reply": "2024-11-25T00:34:27.754289Z"
    },
    "papermill": {
     "duration": 0.030459,
     "end_time": "2024-11-25T00:34:27.757630",
     "exception": false,
     "start_time": "2024-11-25T00:34:27.727171",
     "status": "completed"
    },
    "tags": []
   },
   "outputs": [
    {
     "data": {
      "text/plain": [
       "Churn\n",
       "False    2278\n",
       "True      388\n",
       "Name: count, dtype: int64"
      ]
     },
     "execution_count": 51,
     "metadata": {},
     "output_type": "execute_result"
    }
   ],
   "source": [
    "df.Churn.value_counts()"
   ]
  },
  {
   "cell_type": "code",
   "execution_count": 52,
   "id": "02f9c56d",
   "metadata": {
    "execution": {
     "iopub.execute_input": "2024-11-25T00:34:27.795310Z",
     "iopub.status.busy": "2024-11-25T00:34:27.794486Z",
     "iopub.status.idle": "2024-11-25T00:34:28.037078Z",
     "shell.execute_reply": "2024-11-25T00:34:28.034548Z"
    },
    "papermill": {
     "duration": 0.26459,
     "end_time": "2024-11-25T00:34:28.040181",
     "exception": false,
     "start_time": "2024-11-25T00:34:27.775591",
     "status": "completed"
    },
    "tags": []
   },
   "outputs": [
    {
     "name": "stdout",
     "output_type": "stream",
     "text": [
      "accuracy : 0.9588014981273408\n"
     ]
    }
   ],
   "source": [
    "X = df.drop('Churn', axis=1)\n",
    "y = df['Churn']\n",
    "X_train, X_test, y_train, y_test = train_test_split(X, y, test_size=0.2, random_state=42)\n",
    "model = XGBClassifier(scale_pos_weight=2278/388) # il faut changer le parametre\n",
    "model.fit(X_train, y_train)\n",
    "y_hat = model.predict(X_test)\n",
    "print('accuracy :',accuracy_score(y_test,y_hat))"
   ]
  },
  {
   "cell_type": "markdown",
   "id": "3529669d",
   "metadata": {
    "papermill": {
     "duration": 0.017604,
     "end_time": "2024-11-25T00:34:28.076156",
     "exception": false,
     "start_time": "2024-11-25T00:34:28.058552",
     "status": "completed"
    },
    "tags": []
   },
   "source": [
    "## prix de maison a seattle"
   ]
  },
  {
   "cell_type": "code",
   "execution_count": 53,
   "id": "7d0c1ad4",
   "metadata": {
    "execution": {
     "iopub.execute_input": "2024-11-25T00:34:28.113614Z",
     "iopub.status.busy": "2024-11-25T00:34:28.113226Z",
     "iopub.status.idle": "2024-11-25T00:34:28.218387Z",
     "shell.execute_reply": "2024-11-25T00:34:28.217297Z"
    },
    "papermill": {
     "duration": 0.126512,
     "end_time": "2024-11-25T00:34:28.220569",
     "exception": false,
     "start_time": "2024-11-25T00:34:28.094057",
     "status": "completed"
    },
    "tags": []
   },
   "outputs": [
    {
     "data": {
      "text/html": [
       "<div>\n",
       "<style scoped>\n",
       "    .dataframe tbody tr th:only-of-type {\n",
       "        vertical-align: middle;\n",
       "    }\n",
       "\n",
       "    .dataframe tbody tr th {\n",
       "        vertical-align: top;\n",
       "    }\n",
       "\n",
       "    .dataframe thead th {\n",
       "        text-align: right;\n",
       "    }\n",
       "</style>\n",
       "<table border=\"1\" class=\"dataframe\">\n",
       "  <thead>\n",
       "    <tr style=\"text-align: right;\">\n",
       "      <th></th>\n",
       "      <th>id</th>\n",
       "      <th>date</th>\n",
       "      <th>price</th>\n",
       "      <th>bedrooms</th>\n",
       "      <th>bathrooms</th>\n",
       "      <th>sqft_living</th>\n",
       "      <th>sqft_lot</th>\n",
       "      <th>floors</th>\n",
       "      <th>waterfront</th>\n",
       "      <th>view</th>\n",
       "      <th>...</th>\n",
       "      <th>grade</th>\n",
       "      <th>sqft_above</th>\n",
       "      <th>sqft_basement</th>\n",
       "      <th>yr_built</th>\n",
       "      <th>yr_renovated</th>\n",
       "      <th>zipcode</th>\n",
       "      <th>lat</th>\n",
       "      <th>long</th>\n",
       "      <th>sqft_living15</th>\n",
       "      <th>sqft_lot15</th>\n",
       "    </tr>\n",
       "  </thead>\n",
       "  <tbody>\n",
       "    <tr>\n",
       "      <th>0</th>\n",
       "      <td>7129300520</td>\n",
       "      <td>20141013T000000</td>\n",
       "      <td>221900.0</td>\n",
       "      <td>3</td>\n",
       "      <td>1.00</td>\n",
       "      <td>1180</td>\n",
       "      <td>5650</td>\n",
       "      <td>1.0</td>\n",
       "      <td>0</td>\n",
       "      <td>0</td>\n",
       "      <td>...</td>\n",
       "      <td>7</td>\n",
       "      <td>1180</td>\n",
       "      <td>0</td>\n",
       "      <td>1955</td>\n",
       "      <td>0</td>\n",
       "      <td>98178</td>\n",
       "      <td>47.5112</td>\n",
       "      <td>-122.257</td>\n",
       "      <td>1340</td>\n",
       "      <td>5650</td>\n",
       "    </tr>\n",
       "    <tr>\n",
       "      <th>1</th>\n",
       "      <td>6414100192</td>\n",
       "      <td>20141209T000000</td>\n",
       "      <td>538000.0</td>\n",
       "      <td>3</td>\n",
       "      <td>2.25</td>\n",
       "      <td>2570</td>\n",
       "      <td>7242</td>\n",
       "      <td>2.0</td>\n",
       "      <td>0</td>\n",
       "      <td>0</td>\n",
       "      <td>...</td>\n",
       "      <td>7</td>\n",
       "      <td>2170</td>\n",
       "      <td>400</td>\n",
       "      <td>1951</td>\n",
       "      <td>1991</td>\n",
       "      <td>98125</td>\n",
       "      <td>47.7210</td>\n",
       "      <td>-122.319</td>\n",
       "      <td>1690</td>\n",
       "      <td>7639</td>\n",
       "    </tr>\n",
       "    <tr>\n",
       "      <th>2</th>\n",
       "      <td>5631500400</td>\n",
       "      <td>20150225T000000</td>\n",
       "      <td>180000.0</td>\n",
       "      <td>2</td>\n",
       "      <td>1.00</td>\n",
       "      <td>770</td>\n",
       "      <td>10000</td>\n",
       "      <td>1.0</td>\n",
       "      <td>0</td>\n",
       "      <td>0</td>\n",
       "      <td>...</td>\n",
       "      <td>6</td>\n",
       "      <td>770</td>\n",
       "      <td>0</td>\n",
       "      <td>1933</td>\n",
       "      <td>0</td>\n",
       "      <td>98028</td>\n",
       "      <td>47.7379</td>\n",
       "      <td>-122.233</td>\n",
       "      <td>2720</td>\n",
       "      <td>8062</td>\n",
       "    </tr>\n",
       "    <tr>\n",
       "      <th>3</th>\n",
       "      <td>2487200875</td>\n",
       "      <td>20141209T000000</td>\n",
       "      <td>604000.0</td>\n",
       "      <td>4</td>\n",
       "      <td>3.00</td>\n",
       "      <td>1960</td>\n",
       "      <td>5000</td>\n",
       "      <td>1.0</td>\n",
       "      <td>0</td>\n",
       "      <td>0</td>\n",
       "      <td>...</td>\n",
       "      <td>7</td>\n",
       "      <td>1050</td>\n",
       "      <td>910</td>\n",
       "      <td>1965</td>\n",
       "      <td>0</td>\n",
       "      <td>98136</td>\n",
       "      <td>47.5208</td>\n",
       "      <td>-122.393</td>\n",
       "      <td>1360</td>\n",
       "      <td>5000</td>\n",
       "    </tr>\n",
       "    <tr>\n",
       "      <th>4</th>\n",
       "      <td>1954400510</td>\n",
       "      <td>20150218T000000</td>\n",
       "      <td>510000.0</td>\n",
       "      <td>3</td>\n",
       "      <td>2.00</td>\n",
       "      <td>1680</td>\n",
       "      <td>8080</td>\n",
       "      <td>1.0</td>\n",
       "      <td>0</td>\n",
       "      <td>0</td>\n",
       "      <td>...</td>\n",
       "      <td>8</td>\n",
       "      <td>1680</td>\n",
       "      <td>0</td>\n",
       "      <td>1987</td>\n",
       "      <td>0</td>\n",
       "      <td>98074</td>\n",
       "      <td>47.6168</td>\n",
       "      <td>-122.045</td>\n",
       "      <td>1800</td>\n",
       "      <td>7503</td>\n",
       "    </tr>\n",
       "  </tbody>\n",
       "</table>\n",
       "<p>5 rows × 21 columns</p>\n",
       "</div>"
      ],
      "text/plain": [
       "           id             date     price  bedrooms  bathrooms  sqft_living  \\\n",
       "0  7129300520  20141013T000000  221900.0         3       1.00         1180   \n",
       "1  6414100192  20141209T000000  538000.0         3       2.25         2570   \n",
       "2  5631500400  20150225T000000  180000.0         2       1.00          770   \n",
       "3  2487200875  20141209T000000  604000.0         4       3.00         1960   \n",
       "4  1954400510  20150218T000000  510000.0         3       2.00         1680   \n",
       "\n",
       "   sqft_lot  floors  waterfront  view  ...  grade  sqft_above  sqft_basement  \\\n",
       "0      5650     1.0           0     0  ...      7        1180              0   \n",
       "1      7242     2.0           0     0  ...      7        2170            400   \n",
       "2     10000     1.0           0     0  ...      6         770              0   \n",
       "3      5000     1.0           0     0  ...      7        1050            910   \n",
       "4      8080     1.0           0     0  ...      8        1680              0   \n",
       "\n",
       "   yr_built  yr_renovated  zipcode      lat     long  sqft_living15  \\\n",
       "0      1955             0    98178  47.5112 -122.257           1340   \n",
       "1      1951          1991    98125  47.7210 -122.319           1690   \n",
       "2      1933             0    98028  47.7379 -122.233           2720   \n",
       "3      1965             0    98136  47.5208 -122.393           1360   \n",
       "4      1987             0    98074  47.6168 -122.045           1800   \n",
       "\n",
       "   sqft_lot15  \n",
       "0        5650  \n",
       "1        7639  \n",
       "2        8062  \n",
       "3        5000  \n",
       "4        7503  \n",
       "\n",
       "[5 rows x 21 columns]"
      ]
     },
     "execution_count": 53,
     "metadata": {},
     "output_type": "execute_result"
    }
   ],
   "source": [
    "df=pd.read_csv(\"/kaggle/input/basic-datasets/kc_house_data.csv\")\n",
    "df.head()"
   ]
  },
  {
   "cell_type": "code",
   "execution_count": 54,
   "id": "f1bbbfd7",
   "metadata": {
    "execution": {
     "iopub.execute_input": "2024-11-25T00:34:28.259606Z",
     "iopub.status.busy": "2024-11-25T00:34:28.259201Z",
     "iopub.status.idle": "2024-11-25T00:34:28.270748Z",
     "shell.execute_reply": "2024-11-25T00:34:28.269690Z"
    },
    "papermill": {
     "duration": 0.033503,
     "end_time": "2024-11-25T00:34:28.272931",
     "exception": false,
     "start_time": "2024-11-25T00:34:28.239428",
     "status": "completed"
    },
    "tags": []
   },
   "outputs": [
    {
     "data": {
      "text/plain": [
       "id               21613\n",
       "date             21613\n",
       "price            21613\n",
       "bedrooms         21613\n",
       "bathrooms        21613\n",
       "sqft_living      21613\n",
       "sqft_lot         21613\n",
       "floors           21613\n",
       "waterfront       21613\n",
       "view             21613\n",
       "condition        21613\n",
       "grade            21613\n",
       "sqft_above       21613\n",
       "sqft_basement    21613\n",
       "yr_built         21613\n",
       "yr_renovated     21613\n",
       "zipcode          21613\n",
       "lat              21613\n",
       "long             21613\n",
       "sqft_living15    21613\n",
       "sqft_lot15       21613\n",
       "dtype: int64"
      ]
     },
     "execution_count": 54,
     "metadata": {},
     "output_type": "execute_result"
    }
   ],
   "source": [
    "df.count()"
   ]
  },
  {
   "cell_type": "code",
   "execution_count": 55,
   "id": "b0ae5b1c",
   "metadata": {
    "execution": {
     "iopub.execute_input": "2024-11-25T00:34:28.312378Z",
     "iopub.status.busy": "2024-11-25T00:34:28.311987Z",
     "iopub.status.idle": "2024-11-25T00:34:28.335788Z",
     "shell.execute_reply": "2024-11-25T00:34:28.334649Z"
    },
    "papermill": {
     "duration": 0.046261,
     "end_time": "2024-11-25T00:34:28.338102",
     "exception": false,
     "start_time": "2024-11-25T00:34:28.291841",
     "status": "completed"
    },
    "tags": []
   },
   "outputs": [
    {
     "data": {
      "text/html": [
       "<div>\n",
       "<style scoped>\n",
       "    .dataframe tbody tr th:only-of-type {\n",
       "        vertical-align: middle;\n",
       "    }\n",
       "\n",
       "    .dataframe tbody tr th {\n",
       "        vertical-align: top;\n",
       "    }\n",
       "\n",
       "    .dataframe thead th {\n",
       "        text-align: right;\n",
       "    }\n",
       "</style>\n",
       "<table border=\"1\" class=\"dataframe\">\n",
       "  <thead>\n",
       "    <tr style=\"text-align: right;\">\n",
       "      <th></th>\n",
       "      <th>id</th>\n",
       "      <th>date</th>\n",
       "      <th>price</th>\n",
       "      <th>bedrooms</th>\n",
       "      <th>bathrooms</th>\n",
       "      <th>sqft_living</th>\n",
       "      <th>sqft_lot</th>\n",
       "      <th>floors</th>\n",
       "      <th>waterfront</th>\n",
       "      <th>view</th>\n",
       "      <th>...</th>\n",
       "      <th>grade</th>\n",
       "      <th>sqft_above</th>\n",
       "      <th>sqft_basement</th>\n",
       "      <th>yr_built</th>\n",
       "      <th>yr_renovated</th>\n",
       "      <th>zipcode</th>\n",
       "      <th>lat</th>\n",
       "      <th>long</th>\n",
       "      <th>sqft_living15</th>\n",
       "      <th>sqft_lot15</th>\n",
       "    </tr>\n",
       "  </thead>\n",
       "  <tbody>\n",
       "    <tr>\n",
       "      <th>1164</th>\n",
       "      <td>1247600105</td>\n",
       "      <td>20141020T000000</td>\n",
       "      <td>5110800.0</td>\n",
       "      <td>5</td>\n",
       "      <td>5.25</td>\n",
       "      <td>8010</td>\n",
       "      <td>45517</td>\n",
       "      <td>2.0</td>\n",
       "      <td>1</td>\n",
       "      <td>4</td>\n",
       "      <td>...</td>\n",
       "      <td>12</td>\n",
       "      <td>5990</td>\n",
       "      <td>2020</td>\n",
       "      <td>1999</td>\n",
       "      <td>0</td>\n",
       "      <td>98033</td>\n",
       "      <td>47.6767</td>\n",
       "      <td>-122.211</td>\n",
       "      <td>3430</td>\n",
       "      <td>26788</td>\n",
       "    </tr>\n",
       "    <tr>\n",
       "      <th>1315</th>\n",
       "      <td>7558700030</td>\n",
       "      <td>20150413T000000</td>\n",
       "      <td>5300000.0</td>\n",
       "      <td>6</td>\n",
       "      <td>6.00</td>\n",
       "      <td>7390</td>\n",
       "      <td>24829</td>\n",
       "      <td>2.0</td>\n",
       "      <td>1</td>\n",
       "      <td>4</td>\n",
       "      <td>...</td>\n",
       "      <td>12</td>\n",
       "      <td>5000</td>\n",
       "      <td>2390</td>\n",
       "      <td>1991</td>\n",
       "      <td>0</td>\n",
       "      <td>98040</td>\n",
       "      <td>47.5631</td>\n",
       "      <td>-122.210</td>\n",
       "      <td>4320</td>\n",
       "      <td>24619</td>\n",
       "    </tr>\n",
       "    <tr>\n",
       "      <th>1448</th>\n",
       "      <td>8907500070</td>\n",
       "      <td>20150413T000000</td>\n",
       "      <td>5350000.0</td>\n",
       "      <td>5</td>\n",
       "      <td>5.00</td>\n",
       "      <td>8000</td>\n",
       "      <td>23985</td>\n",
       "      <td>2.0</td>\n",
       "      <td>0</td>\n",
       "      <td>4</td>\n",
       "      <td>...</td>\n",
       "      <td>12</td>\n",
       "      <td>6720</td>\n",
       "      <td>1280</td>\n",
       "      <td>2009</td>\n",
       "      <td>0</td>\n",
       "      <td>98004</td>\n",
       "      <td>47.6232</td>\n",
       "      <td>-122.220</td>\n",
       "      <td>4600</td>\n",
       "      <td>21750</td>\n",
       "    </tr>\n",
       "    <tr>\n",
       "      <th>3914</th>\n",
       "      <td>9808700762</td>\n",
       "      <td>20140611T000000</td>\n",
       "      <td>7062500.0</td>\n",
       "      <td>5</td>\n",
       "      <td>4.50</td>\n",
       "      <td>10040</td>\n",
       "      <td>37325</td>\n",
       "      <td>2.0</td>\n",
       "      <td>1</td>\n",
       "      <td>2</td>\n",
       "      <td>...</td>\n",
       "      <td>11</td>\n",
       "      <td>7680</td>\n",
       "      <td>2360</td>\n",
       "      <td>1940</td>\n",
       "      <td>2001</td>\n",
       "      <td>98004</td>\n",
       "      <td>47.6500</td>\n",
       "      <td>-122.214</td>\n",
       "      <td>3930</td>\n",
       "      <td>25449</td>\n",
       "    </tr>\n",
       "    <tr>\n",
       "      <th>4411</th>\n",
       "      <td>2470100110</td>\n",
       "      <td>20140804T000000</td>\n",
       "      <td>5570000.0</td>\n",
       "      <td>5</td>\n",
       "      <td>5.75</td>\n",
       "      <td>9200</td>\n",
       "      <td>35069</td>\n",
       "      <td>2.0</td>\n",
       "      <td>0</td>\n",
       "      <td>0</td>\n",
       "      <td>...</td>\n",
       "      <td>13</td>\n",
       "      <td>6200</td>\n",
       "      <td>3000</td>\n",
       "      <td>2001</td>\n",
       "      <td>0</td>\n",
       "      <td>98039</td>\n",
       "      <td>47.6289</td>\n",
       "      <td>-122.233</td>\n",
       "      <td>3560</td>\n",
       "      <td>24345</td>\n",
       "    </tr>\n",
       "    <tr>\n",
       "      <th>7252</th>\n",
       "      <td>6762700020</td>\n",
       "      <td>20141013T000000</td>\n",
       "      <td>7700000.0</td>\n",
       "      <td>6</td>\n",
       "      <td>8.00</td>\n",
       "      <td>12050</td>\n",
       "      <td>27600</td>\n",
       "      <td>2.5</td>\n",
       "      <td>0</td>\n",
       "      <td>3</td>\n",
       "      <td>...</td>\n",
       "      <td>13</td>\n",
       "      <td>8570</td>\n",
       "      <td>3480</td>\n",
       "      <td>1910</td>\n",
       "      <td>1987</td>\n",
       "      <td>98102</td>\n",
       "      <td>47.6298</td>\n",
       "      <td>-122.323</td>\n",
       "      <td>3940</td>\n",
       "      <td>8800</td>\n",
       "    </tr>\n",
       "    <tr>\n",
       "      <th>8092</th>\n",
       "      <td>1924059029</td>\n",
       "      <td>20140617T000000</td>\n",
       "      <td>4668000.0</td>\n",
       "      <td>5</td>\n",
       "      <td>6.75</td>\n",
       "      <td>9640</td>\n",
       "      <td>13068</td>\n",
       "      <td>1.0</td>\n",
       "      <td>1</td>\n",
       "      <td>4</td>\n",
       "      <td>...</td>\n",
       "      <td>12</td>\n",
       "      <td>4820</td>\n",
       "      <td>4820</td>\n",
       "      <td>1983</td>\n",
       "      <td>2009</td>\n",
       "      <td>98040</td>\n",
       "      <td>47.5570</td>\n",
       "      <td>-122.210</td>\n",
       "      <td>3270</td>\n",
       "      <td>10454</td>\n",
       "    </tr>\n",
       "    <tr>\n",
       "      <th>9254</th>\n",
       "      <td>9208900037</td>\n",
       "      <td>20140919T000000</td>\n",
       "      <td>6885000.0</td>\n",
       "      <td>6</td>\n",
       "      <td>7.75</td>\n",
       "      <td>9890</td>\n",
       "      <td>31374</td>\n",
       "      <td>2.0</td>\n",
       "      <td>0</td>\n",
       "      <td>4</td>\n",
       "      <td>...</td>\n",
       "      <td>13</td>\n",
       "      <td>8860</td>\n",
       "      <td>1030</td>\n",
       "      <td>2001</td>\n",
       "      <td>0</td>\n",
       "      <td>98039</td>\n",
       "      <td>47.6305</td>\n",
       "      <td>-122.240</td>\n",
       "      <td>4540</td>\n",
       "      <td>42730</td>\n",
       "    </tr>\n",
       "  </tbody>\n",
       "</table>\n",
       "<p>8 rows × 21 columns</p>\n",
       "</div>"
      ],
      "text/plain": [
       "              id             date      price  bedrooms  bathrooms  \\\n",
       "1164  1247600105  20141020T000000  5110800.0         5       5.25   \n",
       "1315  7558700030  20150413T000000  5300000.0         6       6.00   \n",
       "1448  8907500070  20150413T000000  5350000.0         5       5.00   \n",
       "3914  9808700762  20140611T000000  7062500.0         5       4.50   \n",
       "4411  2470100110  20140804T000000  5570000.0         5       5.75   \n",
       "7252  6762700020  20141013T000000  7700000.0         6       8.00   \n",
       "8092  1924059029  20140617T000000  4668000.0         5       6.75   \n",
       "9254  9208900037  20140919T000000  6885000.0         6       7.75   \n",
       "\n",
       "      sqft_living  sqft_lot  floors  waterfront  view  ...  grade  sqft_above  \\\n",
       "1164         8010     45517     2.0           1     4  ...     12        5990   \n",
       "1315         7390     24829     2.0           1     4  ...     12        5000   \n",
       "1448         8000     23985     2.0           0     4  ...     12        6720   \n",
       "3914        10040     37325     2.0           1     2  ...     11        7680   \n",
       "4411         9200     35069     2.0           0     0  ...     13        6200   \n",
       "7252        12050     27600     2.5           0     3  ...     13        8570   \n",
       "8092         9640     13068     1.0           1     4  ...     12        4820   \n",
       "9254         9890     31374     2.0           0     4  ...     13        8860   \n",
       "\n",
       "      sqft_basement  yr_built  yr_renovated  zipcode      lat     long  \\\n",
       "1164           2020      1999             0    98033  47.6767 -122.211   \n",
       "1315           2390      1991             0    98040  47.5631 -122.210   \n",
       "1448           1280      2009             0    98004  47.6232 -122.220   \n",
       "3914           2360      1940          2001    98004  47.6500 -122.214   \n",
       "4411           3000      2001             0    98039  47.6289 -122.233   \n",
       "7252           3480      1910          1987    98102  47.6298 -122.323   \n",
       "8092           4820      1983          2009    98040  47.5570 -122.210   \n",
       "9254           1030      2001             0    98039  47.6305 -122.240   \n",
       "\n",
       "      sqft_living15  sqft_lot15  \n",
       "1164           3430       26788  \n",
       "1315           4320       24619  \n",
       "1448           4600       21750  \n",
       "3914           3930       25449  \n",
       "4411           3560       24345  \n",
       "7252           3940        8800  \n",
       "8092           3270       10454  \n",
       "9254           4540       42730  \n",
       "\n",
       "[8 rows x 21 columns]"
      ]
     },
     "execution_count": 55,
     "metadata": {},
     "output_type": "execute_result"
    }
   ],
   "source": [
    "df[df.price>4500000]"
   ]
  },
  {
   "cell_type": "code",
   "execution_count": 56,
   "id": "53915b1c",
   "metadata": {
    "execution": {
     "iopub.execute_input": "2024-11-25T00:34:28.377542Z",
     "iopub.status.busy": "2024-11-25T00:34:28.377140Z",
     "iopub.status.idle": "2024-11-25T00:34:30.430451Z",
     "shell.execute_reply": "2024-11-25T00:34:30.429280Z"
    },
    "papermill": {
     "duration": 2.076938,
     "end_time": "2024-11-25T00:34:30.433914",
     "exception": false,
     "start_time": "2024-11-25T00:34:28.356976",
     "status": "completed"
    },
    "tags": []
   },
   "outputs": [
    {
     "data": {
      "text/plain": [
       "<Axes: xlabel='long', ylabel='lat'>"
      ]
     },
     "execution_count": 56,
     "metadata": {},
     "output_type": "execute_result"
    },
    {
     "data": {
      "image/png": "[encoded data removed]",
      "text/plain": [
       "<Figure size 640x480 with 1 Axes>"
      ]
     },
     "metadata": {},
     "output_type": "display_data"
    }
   ],
   "source": [
    "sns.scatterplot(data=df[df.price<2000000],x='long',y='lat',hue='price',palette='rainbow')"
   ]
  },
  {
   "cell_type": "code",
   "execution_count": 57,
   "id": "2853cca6",
   "metadata": {
    "execution": {
     "iopub.execute_input": "2024-11-25T00:34:30.479896Z",
     "iopub.status.busy": "2024-11-25T00:34:30.479524Z",
     "iopub.status.idle": "2024-11-25T00:34:30.508025Z",
     "shell.execute_reply": "2024-11-25T00:34:30.507008Z"
    },
    "papermill": {
     "duration": 0.054694,
     "end_time": "2024-11-25T00:34:30.510486",
     "exception": false,
     "start_time": "2024-11-25T00:34:30.455792",
     "status": "completed"
    },
    "tags": []
   },
   "outputs": [],
   "source": [
    "df['year']=pd.DatetimeIndex(df['date']).year\n",
    "df['month']=pd.DatetimeIndex(df['date']).month"
   ]
  },
  {
   "cell_type": "code",
   "execution_count": 58,
   "id": "eb8259bd",
   "metadata": {
    "execution": {
     "iopub.execute_input": "2024-11-25T00:34:30.557545Z",
     "iopub.status.busy": "2024-11-25T00:34:30.557133Z",
     "iopub.status.idle": "2024-11-25T00:34:30.581053Z",
     "shell.execute_reply": "2024-11-25T00:34:30.579927Z"
    },
    "papermill": {
     "duration": 0.051263,
     "end_time": "2024-11-25T00:34:30.583294",
     "exception": false,
     "start_time": "2024-11-25T00:34:30.532031",
     "status": "completed"
    },
    "tags": []
   },
   "outputs": [
    {
     "data": {
      "text/html": [
       "<div>\n",
       "<style scoped>\n",
       "    .dataframe tbody tr th:only-of-type {\n",
       "        vertical-align: middle;\n",
       "    }\n",
       "\n",
       "    .dataframe tbody tr th {\n",
       "        vertical-align: top;\n",
       "    }\n",
       "\n",
       "    .dataframe thead th {\n",
       "        text-align: right;\n",
       "    }\n",
       "</style>\n",
       "<table border=\"1\" class=\"dataframe\">\n",
       "  <thead>\n",
       "    <tr style=\"text-align: right;\">\n",
       "      <th></th>\n",
       "      <th>id</th>\n",
       "      <th>date</th>\n",
       "      <th>price</th>\n",
       "      <th>bedrooms</th>\n",
       "      <th>bathrooms</th>\n",
       "      <th>sqft_living</th>\n",
       "      <th>sqft_lot</th>\n",
       "      <th>floors</th>\n",
       "      <th>waterfront</th>\n",
       "      <th>view</th>\n",
       "      <th>...</th>\n",
       "      <th>sqft_basement</th>\n",
       "      <th>yr_built</th>\n",
       "      <th>yr_renovated</th>\n",
       "      <th>zipcode</th>\n",
       "      <th>lat</th>\n",
       "      <th>long</th>\n",
       "      <th>sqft_living15</th>\n",
       "      <th>sqft_lot15</th>\n",
       "      <th>year</th>\n",
       "      <th>month</th>\n",
       "    </tr>\n",
       "  </thead>\n",
       "  <tbody>\n",
       "    <tr>\n",
       "      <th>0</th>\n",
       "      <td>7129300520</td>\n",
       "      <td>20141013T000000</td>\n",
       "      <td>221900.0</td>\n",
       "      <td>3</td>\n",
       "      <td>1.00</td>\n",
       "      <td>1180</td>\n",
       "      <td>5650</td>\n",
       "      <td>1.0</td>\n",
       "      <td>0</td>\n",
       "      <td>0</td>\n",
       "      <td>...</td>\n",
       "      <td>0</td>\n",
       "      <td>1955</td>\n",
       "      <td>0</td>\n",
       "      <td>98178</td>\n",
       "      <td>47.5112</td>\n",
       "      <td>-122.257</td>\n",
       "      <td>1340</td>\n",
       "      <td>5650</td>\n",
       "      <td>2014</td>\n",
       "      <td>10</td>\n",
       "    </tr>\n",
       "    <tr>\n",
       "      <th>1</th>\n",
       "      <td>6414100192</td>\n",
       "      <td>20141209T000000</td>\n",
       "      <td>538000.0</td>\n",
       "      <td>3</td>\n",
       "      <td>2.25</td>\n",
       "      <td>2570</td>\n",
       "      <td>7242</td>\n",
       "      <td>2.0</td>\n",
       "      <td>0</td>\n",
       "      <td>0</td>\n",
       "      <td>...</td>\n",
       "      <td>400</td>\n",
       "      <td>1951</td>\n",
       "      <td>1991</td>\n",
       "      <td>98125</td>\n",
       "      <td>47.7210</td>\n",
       "      <td>-122.319</td>\n",
       "      <td>1690</td>\n",
       "      <td>7639</td>\n",
       "      <td>2014</td>\n",
       "      <td>12</td>\n",
       "    </tr>\n",
       "    <tr>\n",
       "      <th>2</th>\n",
       "      <td>5631500400</td>\n",
       "      <td>20150225T000000</td>\n",
       "      <td>180000.0</td>\n",
       "      <td>2</td>\n",
       "      <td>1.00</td>\n",
       "      <td>770</td>\n",
       "      <td>10000</td>\n",
       "      <td>1.0</td>\n",
       "      <td>0</td>\n",
       "      <td>0</td>\n",
       "      <td>...</td>\n",
       "      <td>0</td>\n",
       "      <td>1933</td>\n",
       "      <td>0</td>\n",
       "      <td>98028</td>\n",
       "      <td>47.7379</td>\n",
       "      <td>-122.233</td>\n",
       "      <td>2720</td>\n",
       "      <td>8062</td>\n",
       "      <td>2015</td>\n",
       "      <td>2</td>\n",
       "    </tr>\n",
       "    <tr>\n",
       "      <th>3</th>\n",
       "      <td>2487200875</td>\n",
       "      <td>20141209T000000</td>\n",
       "      <td>604000.0</td>\n",
       "      <td>4</td>\n",
       "      <td>3.00</td>\n",
       "      <td>1960</td>\n",
       "      <td>5000</td>\n",
       "      <td>1.0</td>\n",
       "      <td>0</td>\n",
       "      <td>0</td>\n",
       "      <td>...</td>\n",
       "      <td>910</td>\n",
       "      <td>1965</td>\n",
       "      <td>0</td>\n",
       "      <td>98136</td>\n",
       "      <td>47.5208</td>\n",
       "      <td>-122.393</td>\n",
       "      <td>1360</td>\n",
       "      <td>5000</td>\n",
       "      <td>2014</td>\n",
       "      <td>12</td>\n",
       "    </tr>\n",
       "    <tr>\n",
       "      <th>4</th>\n",
       "      <td>1954400510</td>\n",
       "      <td>20150218T000000</td>\n",
       "      <td>510000.0</td>\n",
       "      <td>3</td>\n",
       "      <td>2.00</td>\n",
       "      <td>1680</td>\n",
       "      <td>8080</td>\n",
       "      <td>1.0</td>\n",
       "      <td>0</td>\n",
       "      <td>0</td>\n",
       "      <td>...</td>\n",
       "      <td>0</td>\n",
       "      <td>1987</td>\n",
       "      <td>0</td>\n",
       "      <td>98074</td>\n",
       "      <td>47.6168</td>\n",
       "      <td>-122.045</td>\n",
       "      <td>1800</td>\n",
       "      <td>7503</td>\n",
       "      <td>2015</td>\n",
       "      <td>2</td>\n",
       "    </tr>\n",
       "  </tbody>\n",
       "</table>\n",
       "<p>5 rows × 23 columns</p>\n",
       "</div>"
      ],
      "text/plain": [
       "           id             date     price  bedrooms  bathrooms  sqft_living  \\\n",
       "0  7129300520  20141013T000000  221900.0         3       1.00         1180   \n",
       "1  6414100192  20141209T000000  538000.0         3       2.25         2570   \n",
       "2  5631500400  20150225T000000  180000.0         2       1.00          770   \n",
       "3  2487200875  20141209T000000  604000.0         4       3.00         1960   \n",
       "4  1954400510  20150218T000000  510000.0         3       2.00         1680   \n",
       "\n",
       "   sqft_lot  floors  waterfront  view  ...  sqft_basement  yr_built  \\\n",
       "0      5650     1.0           0     0  ...              0      1955   \n",
       "1      7242     2.0           0     0  ...            400      1951   \n",
       "2     10000     1.0           0     0  ...              0      1933   \n",
       "3      5000     1.0           0     0  ...            910      1965   \n",
       "4      8080     1.0           0     0  ...              0      1987   \n",
       "\n",
       "   yr_renovated  zipcode      lat     long  sqft_living15  sqft_lot15  year  \\\n",
       "0             0    98178  47.5112 -122.257           1340        5650  2014   \n",
       "1          1991    98125  47.7210 -122.319           1690        7639  2014   \n",
       "2             0    98028  47.7379 -122.233           2720        8062  2015   \n",
       "3             0    98136  47.5208 -122.393           1360        5000  2014   \n",
       "4             0    98074  47.6168 -122.045           1800        7503  2015   \n",
       "\n",
       "   month  \n",
       "0     10  \n",
       "1     12  \n",
       "2      2  \n",
       "3     12  \n",
       "4      2  \n",
       "\n",
       "[5 rows x 23 columns]"
      ]
     },
     "execution_count": 58,
     "metadata": {},
     "output_type": "execute_result"
    }
   ],
   "source": [
    "df.head()"
   ]
  },
  {
   "cell_type": "code",
   "execution_count": 59,
   "id": "424137cd",
   "metadata": {
    "execution": {
     "iopub.execute_input": "2024-11-25T00:34:30.629164Z",
     "iopub.status.busy": "2024-11-25T00:34:30.628180Z",
     "iopub.status.idle": "2024-11-25T00:34:30.635323Z",
     "shell.execute_reply": "2024-11-25T00:34:30.634191Z"
    },
    "papermill": {
     "duration": 0.032448,
     "end_time": "2024-11-25T00:34:30.637628",
     "exception": false,
     "start_time": "2024-11-25T00:34:30.605180",
     "status": "completed"
    },
    "tags": []
   },
   "outputs": [],
   "source": [
    "df=df.drop(['id'],axis=1)"
   ]
  },
  {
   "cell_type": "code",
   "execution_count": 60,
   "id": "ae28a9a2",
   "metadata": {
    "execution": {
     "iopub.execute_input": "2024-11-25T00:34:30.683337Z",
     "iopub.status.busy": "2024-11-25T00:34:30.682907Z",
     "iopub.status.idle": "2024-11-25T00:34:30.689919Z",
     "shell.execute_reply": "2024-11-25T00:34:30.688731Z"
    },
    "papermill": {
     "duration": 0.032445,
     "end_time": "2024-11-25T00:34:30.692091",
     "exception": false,
     "start_time": "2024-11-25T00:34:30.659646",
     "status": "completed"
    },
    "tags": []
   },
   "outputs": [],
   "source": [
    "df=df.drop(['date'],axis=1)"
   ]
  },
  {
   "cell_type": "code",
   "execution_count": 61,
   "id": "e91ea713",
   "metadata": {
    "execution": {
     "iopub.execute_input": "2024-11-25T00:34:30.737680Z",
     "iopub.status.busy": "2024-11-25T00:34:30.737271Z",
     "iopub.status.idle": "2024-11-25T00:34:30.759306Z",
     "shell.execute_reply": "2024-11-25T00:34:30.758305Z"
    },
    "papermill": {
     "duration": 0.047678,
     "end_time": "2024-11-25T00:34:30.761663",
     "exception": false,
     "start_time": "2024-11-25T00:34:30.713985",
     "status": "completed"
    },
    "tags": []
   },
   "outputs": [
    {
     "data": {
      "text/html": [
       "<div>\n",
       "<style scoped>\n",
       "    .dataframe tbody tr th:only-of-type {\n",
       "        vertical-align: middle;\n",
       "    }\n",
       "\n",
       "    .dataframe tbody tr th {\n",
       "        vertical-align: top;\n",
       "    }\n",
       "\n",
       "    .dataframe thead th {\n",
       "        text-align: right;\n",
       "    }\n",
       "</style>\n",
       "<table border=\"1\" class=\"dataframe\">\n",
       "  <thead>\n",
       "    <tr style=\"text-align: right;\">\n",
       "      <th></th>\n",
       "      <th>price</th>\n",
       "      <th>bedrooms</th>\n",
       "      <th>bathrooms</th>\n",
       "      <th>sqft_living</th>\n",
       "      <th>sqft_lot</th>\n",
       "      <th>floors</th>\n",
       "      <th>waterfront</th>\n",
       "      <th>view</th>\n",
       "      <th>condition</th>\n",
       "      <th>grade</th>\n",
       "      <th>...</th>\n",
       "      <th>sqft_basement</th>\n",
       "      <th>yr_built</th>\n",
       "      <th>yr_renovated</th>\n",
       "      <th>zipcode</th>\n",
       "      <th>lat</th>\n",
       "      <th>long</th>\n",
       "      <th>sqft_living15</th>\n",
       "      <th>sqft_lot15</th>\n",
       "      <th>year</th>\n",
       "      <th>month</th>\n",
       "    </tr>\n",
       "  </thead>\n",
       "  <tbody>\n",
       "    <tr>\n",
       "      <th>0</th>\n",
       "      <td>221900.0</td>\n",
       "      <td>3</td>\n",
       "      <td>1.00</td>\n",
       "      <td>1180</td>\n",
       "      <td>5650</td>\n",
       "      <td>1.0</td>\n",
       "      <td>0</td>\n",
       "      <td>0</td>\n",
       "      <td>3</td>\n",
       "      <td>7</td>\n",
       "      <td>...</td>\n",
       "      <td>0</td>\n",
       "      <td>1955</td>\n",
       "      <td>0</td>\n",
       "      <td>98178</td>\n",
       "      <td>47.5112</td>\n",
       "      <td>-122.257</td>\n",
       "      <td>1340</td>\n",
       "      <td>5650</td>\n",
       "      <td>2014</td>\n",
       "      <td>10</td>\n",
       "    </tr>\n",
       "    <tr>\n",
       "      <th>1</th>\n",
       "      <td>538000.0</td>\n",
       "      <td>3</td>\n",
       "      <td>2.25</td>\n",
       "      <td>2570</td>\n",
       "      <td>7242</td>\n",
       "      <td>2.0</td>\n",
       "      <td>0</td>\n",
       "      <td>0</td>\n",
       "      <td>3</td>\n",
       "      <td>7</td>\n",
       "      <td>...</td>\n",
       "      <td>400</td>\n",
       "      <td>1951</td>\n",
       "      <td>1991</td>\n",
       "      <td>98125</td>\n",
       "      <td>47.7210</td>\n",
       "      <td>-122.319</td>\n",
       "      <td>1690</td>\n",
       "      <td>7639</td>\n",
       "      <td>2014</td>\n",
       "      <td>12</td>\n",
       "    </tr>\n",
       "    <tr>\n",
       "      <th>2</th>\n",
       "      <td>180000.0</td>\n",
       "      <td>2</td>\n",
       "      <td>1.00</td>\n",
       "      <td>770</td>\n",
       "      <td>10000</td>\n",
       "      <td>1.0</td>\n",
       "      <td>0</td>\n",
       "      <td>0</td>\n",
       "      <td>3</td>\n",
       "      <td>6</td>\n",
       "      <td>...</td>\n",
       "      <td>0</td>\n",
       "      <td>1933</td>\n",
       "      <td>0</td>\n",
       "      <td>98028</td>\n",
       "      <td>47.7379</td>\n",
       "      <td>-122.233</td>\n",
       "      <td>2720</td>\n",
       "      <td>8062</td>\n",
       "      <td>2015</td>\n",
       "      <td>2</td>\n",
       "    </tr>\n",
       "    <tr>\n",
       "      <th>3</th>\n",
       "      <td>604000.0</td>\n",
       "      <td>4</td>\n",
       "      <td>3.00</td>\n",
       "      <td>1960</td>\n",
       "      <td>5000</td>\n",
       "      <td>1.0</td>\n",
       "      <td>0</td>\n",
       "      <td>0</td>\n",
       "      <td>5</td>\n",
       "      <td>7</td>\n",
       "      <td>...</td>\n",
       "      <td>910</td>\n",
       "      <td>1965</td>\n",
       "      <td>0</td>\n",
       "      <td>98136</td>\n",
       "      <td>47.5208</td>\n",
       "      <td>-122.393</td>\n",
       "      <td>1360</td>\n",
       "      <td>5000</td>\n",
       "      <td>2014</td>\n",
       "      <td>12</td>\n",
       "    </tr>\n",
       "    <tr>\n",
       "      <th>4</th>\n",
       "      <td>510000.0</td>\n",
       "      <td>3</td>\n",
       "      <td>2.00</td>\n",
       "      <td>1680</td>\n",
       "      <td>8080</td>\n",
       "      <td>1.0</td>\n",
       "      <td>0</td>\n",
       "      <td>0</td>\n",
       "      <td>3</td>\n",
       "      <td>8</td>\n",
       "      <td>...</td>\n",
       "      <td>0</td>\n",
       "      <td>1987</td>\n",
       "      <td>0</td>\n",
       "      <td>98074</td>\n",
       "      <td>47.6168</td>\n",
       "      <td>-122.045</td>\n",
       "      <td>1800</td>\n",
       "      <td>7503</td>\n",
       "      <td>2015</td>\n",
       "      <td>2</td>\n",
       "    </tr>\n",
       "  </tbody>\n",
       "</table>\n",
       "<p>5 rows × 21 columns</p>\n",
       "</div>"
      ],
      "text/plain": [
       "      price  bedrooms  bathrooms  sqft_living  sqft_lot  floors  waterfront  \\\n",
       "0  221900.0         3       1.00         1180      5650     1.0           0   \n",
       "1  538000.0         3       2.25         2570      7242     2.0           0   \n",
       "2  180000.0         2       1.00          770     10000     1.0           0   \n",
       "3  604000.0         4       3.00         1960      5000     1.0           0   \n",
       "4  510000.0         3       2.00         1680      8080     1.0           0   \n",
       "\n",
       "   view  condition  grade  ...  sqft_basement  yr_built  yr_renovated  \\\n",
       "0     0          3      7  ...              0      1955             0   \n",
       "1     0          3      7  ...            400      1951          1991   \n",
       "2     0          3      6  ...              0      1933             0   \n",
       "3     0          5      7  ...            910      1965             0   \n",
       "4     0          3      8  ...              0      1987             0   \n",
       "\n",
       "   zipcode      lat     long  sqft_living15  sqft_lot15  year  month  \n",
       "0    98178  47.5112 -122.257           1340        5650  2014     10  \n",
       "1    98125  47.7210 -122.319           1690        7639  2014     12  \n",
       "2    98028  47.7379 -122.233           2720        8062  2015      2  \n",
       "3    98136  47.5208 -122.393           1360        5000  2014     12  \n",
       "4    98074  47.6168 -122.045           1800        7503  2015      2  \n",
       "\n",
       "[5 rows x 21 columns]"
      ]
     },
     "execution_count": 61,
     "metadata": {},
     "output_type": "execute_result"
    }
   ],
   "source": [
    "df.head()"
   ]
  },
  {
   "cell_type": "code",
   "execution_count": 62,
   "id": "2b65a2e7",
   "metadata": {
    "execution": {
     "iopub.execute_input": "2024-11-25T00:34:30.808291Z",
     "iopub.status.busy": "2024-11-25T00:34:30.807293Z",
     "iopub.status.idle": "2024-11-25T00:34:30.818112Z",
     "shell.execute_reply": "2024-11-25T00:34:30.817200Z"
    },
    "papermill": {
     "duration": 0.03662,
     "end_time": "2024-11-25T00:34:30.820414",
     "exception": false,
     "start_time": "2024-11-25T00:34:30.783794",
     "status": "completed"
    },
    "tags": []
   },
   "outputs": [],
   "source": [
    "X = df.drop('price', axis=1).values\n",
    "y = df['price'].values"
   ]
  },
  {
   "cell_type": "code",
   "execution_count": 63,
   "id": "77968470",
   "metadata": {
    "execution": {
     "iopub.execute_input": "2024-11-25T00:34:30.866818Z",
     "iopub.status.busy": "2024-11-25T00:34:30.866023Z",
     "iopub.status.idle": "2024-11-25T00:34:30.874076Z",
     "shell.execute_reply": "2024-11-25T00:34:30.873199Z"
    },
    "papermill": {
     "duration": 0.034059,
     "end_time": "2024-11-25T00:34:30.876608",
     "exception": false,
     "start_time": "2024-11-25T00:34:30.842549",
     "status": "completed"
    },
    "tags": []
   },
   "outputs": [],
   "source": [
    "X_train, X_test, y_train, y_test = train_test_split(X, y, test_size=0.2, random_state=42)"
   ]
  },
  {
   "cell_type": "code",
   "execution_count": 64,
   "id": "eb7602d0",
   "metadata": {
    "execution": {
     "iopub.execute_input": "2024-11-25T00:34:30.923866Z",
     "iopub.status.busy": "2024-11-25T00:34:30.923510Z",
     "iopub.status.idle": "2024-11-25T00:34:31.272681Z",
     "shell.execute_reply": "2024-11-25T00:34:31.271358Z"
    },
    "papermill": {
     "duration": 0.375188,
     "end_time": "2024-11-25T00:34:31.275043",
     "exception": false,
     "start_time": "2024-11-25T00:34:30.899855",
     "status": "completed"
    },
    "tags": []
   },
   "outputs": [
    {
     "name": "stdout",
     "output_type": "stream",
     "text": [
      "Mean Squared Error: 44959335428.98499\n",
      "Mean Absolute percentage Error: 0.24864797186814086\n",
      "R^2 SCORE : 0.7026040931979199\n"
     ]
    },
    {
     "data": {
      "text/plain": [
       "<matplotlib.collections.PathCollection at 0x7d1f3d8ae020>"
      ]
     },
     "execution_count": 64,
     "metadata": {},
     "output_type": "execute_result"
    },
    {
     "data": {
      "image/png": "[encoded data removed]",
      "text/plain": [
       "<Figure size 640x480 with 1 Axes>"
      ]
     },
     "metadata": {},
     "output_type": "display_data"
    }
   ],
   "source": [
    "model=LinearRegression()\n",
    "model.fit(X_train,y_train)\n",
    "y_hat=model.predict(X_test)\n",
    "print(\"Mean Squared Error:\",  mean_squared_error(y_test, y_hat))\n",
    "print(\"Mean Absolute percentage Error:\", mean_absolute_percentage_error(y_test, y_hat))\n",
    "print('R^2 SCORE :',r2_score(y_test, y_hat))\n",
    "plt.scatter(y_test,y_hat,c='red')"
   ]
  },
  {
   "cell_type": "markdown",
   "id": "fed04ebe",
   "metadata": {
    "papermill": {
     "duration": 0.022112,
     "end_time": "2024-11-25T00:34:31.319695",
     "exception": false,
     "start_time": "2024-11-25T00:34:31.297583",
     "status": "completed"
    },
    "tags": []
   },
   "source": [
    "# xgboost"
   ]
  },
  {
   "cell_type": "code",
   "execution_count": 65,
   "id": "feba66d2",
   "metadata": {
    "execution": {
     "iopub.execute_input": "2024-11-25T00:34:31.366970Z",
     "iopub.status.busy": "2024-11-25T00:34:31.366607Z",
     "iopub.status.idle": "2024-11-25T00:34:31.378087Z",
     "shell.execute_reply": "2024-11-25T00:34:31.377029Z"
    },
    "papermill": {
     "duration": 0.038011,
     "end_time": "2024-11-25T00:34:31.380661",
     "exception": false,
     "start_time": "2024-11-25T00:34:31.342650",
     "status": "completed"
    },
    "tags": []
   },
   "outputs": [],
   "source": [
    "X = df.drop('price', axis=1).values\n",
    "y = df['price'].values\n",
    "X_train, X_test, y_train, y_test = train_test_split(X, y, test_size=0.2, random_state=42)"
   ]
  },
  {
   "cell_type": "code",
   "execution_count": 66,
   "id": "c800e7cf",
   "metadata": {
    "execution": {
     "iopub.execute_input": "2024-11-25T00:34:31.427739Z",
     "iopub.status.busy": "2024-11-25T00:34:31.427374Z",
     "iopub.status.idle": "2024-11-25T00:34:31.983643Z",
     "shell.execute_reply": "2024-11-25T00:34:31.982464Z"
    },
    "papermill": {
     "duration": 0.582408,
     "end_time": "2024-11-25T00:34:31.985851",
     "exception": false,
     "start_time": "2024-11-25T00:34:31.403443",
     "status": "completed"
    },
    "tags": []
   },
   "outputs": [
    {
     "name": "stdout",
     "output_type": "stream",
     "text": [
      "Mean Squared Error: 20281933806.534946\n",
      "Mean Absolute percentage Error: 0.12650277698322515\n",
      "R^2 SCORE : 0.8658395628284669\n"
     ]
    },
    {
     "data": {
      "text/plain": [
       "<matplotlib.collections.PathCollection at 0x7d1f3d927f10>"
      ]
     },
     "execution_count": 66,
     "metadata": {},
     "output_type": "execute_result"
    },
    {
     "data": {
      "image/png": "[encoded data removed]",
      "text/plain": [
       "<Figure size 640x480 with 1 Axes>"
      ]
     },
     "metadata": {},
     "output_type": "display_data"
    }
   ],
   "source": [
    "from xgboost import *\n",
    "model=XGBRegressor()\n",
    "model.fit(X_train,y_train)\n",
    "y_hat=model.predict(X_test)\n",
    "print(\"Mean Squared Error:\",  mean_squared_error(y_test, y_hat))\n",
    "print(\"Mean Absolute percentage Error:\", mean_absolute_percentage_error(y_test, y_hat))\n",
    "print('R^2 SCORE :',r2_score(y_test, y_hat))\n",
    "plt.scatter(y_test,y_hat,c='red')"
   ]
  },
  {
   "cell_type": "code",
   "execution_count": null,
   "id": "53cc83e7",
   "metadata": {
    "papermill": {
     "duration": 0.02369,
     "end_time": "2024-11-25T00:34:32.033332",
     "exception": false,
     "start_time": "2024-11-25T00:34:32.009642",
     "status": "completed"
    },
    "tags": []
   },
   "outputs": [],
   "source": []
  }
 ],
 "metadata": {
  "kaggle": {
   "accelerator": "none",
   "dataSources": [
    {
     "datasetId": 3693593,
     "sourceId": 7999895,
     "sourceType": "datasetVersion"
    }
   ],
   "dockerImageVersionId": 30698,
   "isGpuEnabled": false,
   "isInternetEnabled": true,
   "language": "python",
   "sourceType": "notebook"
  },
  "kernelspec": {
   "display_name": "Python 3",
   "language": "python",
   "name": "python3"
  },
  "language_info": {
   "codemirror_mode": {
    "name": "ipython",
    "version": 3
   },
   "file_extension": ".py",
   "mimetype": "text/x-python",
   "name": "python",
   "nbconvert_exporter": "python",
   "pygments_lexer": "ipython3",
   "version": "3.10.13"
  },
  "papermill": {
   "default_parameters": {},
   "duration": 22.881981,
   "end_time": "2024-11-25T00:34:32.678790",
   "environment_variables": {},
   "exception": null,
   "input_path": "__notebook__.ipynb",
   "output_path": "__notebook__.ipynb",
   "parameters": {},
   "start_time": "2024-11-25T00:34:09.796809",
   "version": "2.5.0"
  }
 },
 "nbformat": 4,
 "nbformat_minor": 5
}
